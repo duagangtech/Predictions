{
 "cells": [
  {
   "cell_type": "code",
   "execution_count": 309,
   "id": "d7326252",
   "metadata": {},
   "outputs": [],
   "source": [
    "# Import required libraries\n",
    "import pandas as pd\n",
    "import plotly.express as px\n",
    "import plotly.graph_objects as go\n"
   ]
  },
  {
   "cell_type": "markdown",
   "id": "2ed88246",
   "metadata": {},
   "source": [
    "# Data Visualization of Youtube Data\n",
    "\n",
    "This notebook will explore the features of the top 50 search results for the keyword \"Music\" from Youtube."
   ]
  },
  {
   "cell_type": "code",
   "execution_count": 249,
   "id": "8ec9ec68",
   "metadata": {},
   "outputs": [],
   "source": [
    "music_data = pd.read_csv(\"music.csv\")"
   ]
  },
  {
   "cell_type": "code",
   "execution_count": 305,
   "id": "42f8d434",
   "metadata": {},
   "outputs": [
    {
     "data": {
      "text/html": [
       "<div>\n",
       "<style scoped>\n",
       "    .dataframe tbody tr th:only-of-type {\n",
       "        vertical-align: middle;\n",
       "    }\n",
       "\n",
       "    .dataframe tbody tr th {\n",
       "        vertical-align: top;\n",
       "    }\n",
       "\n",
       "    .dataframe thead th {\n",
       "        text-align: right;\n",
       "    }\n",
       "</style>\n",
       "<table border=\"1\" class=\"dataframe\">\n",
       "  <thead>\n",
       "    <tr style=\"text-align: right;\">\n",
       "      <th></th>\n",
       "      <th>title</th>\n",
       "      <th>Channel Name</th>\n",
       "      <th>Release Date (Day-Month-Year)</th>\n",
       "      <th>Duration (in minutes)</th>\n",
       "      <th>Total Views</th>\n",
       "      <th>Total Likes</th>\n",
       "      <th>Total Comments</th>\n",
       "    </tr>\n",
       "  </thead>\n",
       "  <tbody>\n",
       "    <tr>\n",
       "      <th>0</th>\n",
       "      <td>Python Basics | Python Tutorial For Beginners ...</td>\n",
       "      <td>edureka!</td>\n",
       "      <td>09-10-2019</td>\n",
       "      <td>91.52</td>\n",
       "      <td>842649</td>\n",
       "      <td>15336</td>\n",
       "      <td>156</td>\n",
       "    </tr>\n",
       "    <tr>\n",
       "      <th>1</th>\n",
       "      <td>Python Programming Full Course (Basics + Advan...</td>\n",
       "      <td>Simplilearn</td>\n",
       "      <td>25-03-2021</td>\n",
       "      <td>494.33</td>\n",
       "      <td>56051</td>\n",
       "      <td>1956</td>\n",
       "      <td>52</td>\n",
       "    </tr>\n",
       "    <tr>\n",
       "      <th>2</th>\n",
       "      <td>Python Full Course 2022 | Python Tutorial For ...</td>\n",
       "      <td>Simplilearn</td>\n",
       "      <td>30-01-2022</td>\n",
       "      <td>579.48</td>\n",
       "      <td>45930</td>\n",
       "      <td>1749</td>\n",
       "      <td>27</td>\n",
       "    </tr>\n",
       "    <tr>\n",
       "      <th>3</th>\n",
       "      <td>CS50 2021 - Lecture 6 - Python</td>\n",
       "      <td>CS50</td>\n",
       "      <td>13-10-2021</td>\n",
       "      <td>175.02</td>\n",
       "      <td>95712</td>\n",
       "      <td>2653</td>\n",
       "      <td>119</td>\n",
       "    </tr>\n",
       "    <tr>\n",
       "      <th>4</th>\n",
       "      <td>Python Examples | Python Programs For Beginner...</td>\n",
       "      <td>edureka!</td>\n",
       "      <td>07-05-2019</td>\n",
       "      <td>51.55</td>\n",
       "      <td>174320</td>\n",
       "      <td>2537</td>\n",
       "      <td>35</td>\n",
       "    </tr>\n",
       "    <tr>\n",
       "      <th>5</th>\n",
       "      <td>Best Way to Learn Python for Non Programmer | ...</td>\n",
       "      <td>Intellipaat</td>\n",
       "      <td>13-10-2020</td>\n",
       "      <td>32.33</td>\n",
       "      <td>8273</td>\n",
       "      <td>235</td>\n",
       "      <td>7</td>\n",
       "    </tr>\n",
       "    <tr>\n",
       "      <th>6</th>\n",
       "      <td>Advance Python Programming Full Course | Pytho...</td>\n",
       "      <td>Simplilearn</td>\n",
       "      <td>18-03-2021</td>\n",
       "      <td>147.02</td>\n",
       "      <td>52300</td>\n",
       "      <td>1334</td>\n",
       "      <td>47</td>\n",
       "    </tr>\n",
       "    <tr>\n",
       "      <th>7</th>\n",
       "      <td>Python Expert Full Course | Python Expert Tuto...</td>\n",
       "      <td>Simplilearn</td>\n",
       "      <td>04-09-2021</td>\n",
       "      <td>576.45</td>\n",
       "      <td>31432</td>\n",
       "      <td>1379</td>\n",
       "      <td>25</td>\n",
       "    </tr>\n",
       "    <tr>\n",
       "      <th>8</th>\n",
       "      <td>Coding Livestream - Creating an Online Chat Ap...</td>\n",
       "      <td>Tech With Tim</td>\n",
       "      <td>04-02-2020</td>\n",
       "      <td>269.67</td>\n",
       "      <td>479966</td>\n",
       "      <td>11240</td>\n",
       "      <td>346</td>\n",
       "    </tr>\n",
       "    <tr>\n",
       "      <th>9</th>\n",
       "      <td>Tips To Learn Python Programming | Effective T...</td>\n",
       "      <td>Simplilearn</td>\n",
       "      <td>21-01-2021</td>\n",
       "      <td>8.52</td>\n",
       "      <td>8720</td>\n",
       "      <td>376</td>\n",
       "      <td>13</td>\n",
       "    </tr>\n",
       "    <tr>\n",
       "      <th>10</th>\n",
       "      <td>Python Developer Full course | Python Programm...</td>\n",
       "      <td>Simplilearn</td>\n",
       "      <td>21-07-2021</td>\n",
       "      <td>574.93</td>\n",
       "      <td>23377</td>\n",
       "      <td>842</td>\n",
       "      <td>15</td>\n",
       "    </tr>\n",
       "    <tr>\n",
       "      <th>11</th>\n",
       "      <td>Python Coding</td>\n",
       "      <td>Manocha Academy</td>\n",
       "      <td>25-05-2021</td>\n",
       "      <td>72.35</td>\n",
       "      <td>65656</td>\n",
       "      <td>3656</td>\n",
       "      <td>292</td>\n",
       "    </tr>\n",
       "    <tr>\n",
       "      <th>12</th>\n",
       "      <td>Python in Unreal Engine | Inside Unreal</td>\n",
       "      <td>Unreal Engine</td>\n",
       "      <td>30-05-2019</td>\n",
       "      <td>103.93</td>\n",
       "      <td>77557</td>\n",
       "      <td>1132</td>\n",
       "      <td>74</td>\n",
       "    </tr>\n",
       "    <tr>\n",
       "      <th>13</th>\n",
       "      <td>Introduction to the Python Debugger</td>\n",
       "      <td>London App Developer</td>\n",
       "      <td>02-09-2017</td>\n",
       "      <td>15.32</td>\n",
       "      <td>67161</td>\n",
       "      <td>769</td>\n",
       "      <td>69</td>\n",
       "    </tr>\n",
       "    <tr>\n",
       "      <th>14</th>\n",
       "      <td>Intro to Python Livestream - Python Basics wit...</td>\n",
       "      <td>freeCodeCamp.org</td>\n",
       "      <td>07-07-2020</td>\n",
       "      <td>119.28</td>\n",
       "      <td>191132</td>\n",
       "      <td>4131</td>\n",
       "      <td>116</td>\n",
       "    </tr>\n",
       "    <tr>\n",
       "      <th>15</th>\n",
       "      <td>Python Tutorial for Beginners | Introduction t...</td>\n",
       "      <td>Intellipaat</td>\n",
       "      <td>26-04-2021</td>\n",
       "      <td>15.50</td>\n",
       "      <td>22193</td>\n",
       "      <td>864</td>\n",
       "      <td>43</td>\n",
       "    </tr>\n",
       "    <tr>\n",
       "      <th>16</th>\n",
       "      <td>Python Study Group - 12 Week Session w/Brent (...</td>\n",
       "      <td>Cyber Insecurity</td>\n",
       "      <td>26-01-2022</td>\n",
       "      <td>70.27</td>\n",
       "      <td>5380</td>\n",
       "      <td>366</td>\n",
       "      <td>13</td>\n",
       "    </tr>\n",
       "    <tr>\n",
       "      <th>17</th>\n",
       "      <td>12 Hour Coding Livestream - Creating an Online...</td>\n",
       "      <td>Tech With Tim</td>\n",
       "      <td>18-10-2019</td>\n",
       "      <td>715.02</td>\n",
       "      <td>7969709</td>\n",
       "      <td>163722</td>\n",
       "      <td>2892</td>\n",
       "    </tr>\n",
       "    <tr>\n",
       "      <th>18</th>\n",
       "      <td>Python SciPy Tutorial | Solving Numerical and ...</td>\n",
       "      <td>edureka!</td>\n",
       "      <td>11-09-2019</td>\n",
       "      <td>19.82</td>\n",
       "      <td>76165</td>\n",
       "      <td>1031</td>\n",
       "      <td>27</td>\n",
       "    </tr>\n",
       "    <tr>\n",
       "      <th>19</th>\n",
       "      <td>Making Python 5x FASTER with Guido van Rossum ...</td>\n",
       "      <td>Talk Python</td>\n",
       "      <td>02-11-2021</td>\n",
       "      <td>69.45</td>\n",
       "      <td>5551</td>\n",
       "      <td>256</td>\n",
       "      <td>21</td>\n",
       "    </tr>\n",
       "    <tr>\n",
       "      <th>20</th>\n",
       "      <td>Introduction to Python SciPy | Python SciPy Tu...</td>\n",
       "      <td>edureka!</td>\n",
       "      <td>27-08-2020</td>\n",
       "      <td>20.05</td>\n",
       "      <td>9422</td>\n",
       "      <td>208</td>\n",
       "      <td>2</td>\n",
       "    </tr>\n",
       "    <tr>\n",
       "      <th>21</th>\n",
       "      <td>Data Analysis Using Python &amp; SQL | Data Analys...</td>\n",
       "      <td>Simplilearn</td>\n",
       "      <td>24-06-2021</td>\n",
       "      <td>433.62</td>\n",
       "      <td>42493</td>\n",
       "      <td>1423</td>\n",
       "      <td>17</td>\n",
       "    </tr>\n",
       "    <tr>\n",
       "      <th>22</th>\n",
       "      <td>What Are Python Modules? | Modules In Python |...</td>\n",
       "      <td>edureka!</td>\n",
       "      <td>15-05-2019</td>\n",
       "      <td>22.43</td>\n",
       "      <td>72792</td>\n",
       "      <td>1232</td>\n",
       "      <td>24</td>\n",
       "    </tr>\n",
       "    <tr>\n",
       "      <th>23</th>\n",
       "      <td>Deploying Your Python Applications</td>\n",
       "      <td>DigitalOcean</td>\n",
       "      <td>26-05-2021</td>\n",
       "      <td>66.73</td>\n",
       "      <td>7355</td>\n",
       "      <td>151</td>\n",
       "      <td>7</td>\n",
       "    </tr>\n",
       "    <tr>\n",
       "      <th>24</th>\n",
       "      <td>Python OOPS Concepts | Python OOP Tutorial | P...</td>\n",
       "      <td>edureka!</td>\n",
       "      <td>09-11-2017</td>\n",
       "      <td>32.90</td>\n",
       "      <td>268005</td>\n",
       "      <td>3311</td>\n",
       "      <td>44</td>\n",
       "    </tr>\n",
       "    <tr>\n",
       "      <th>25</th>\n",
       "      <td>Setting up VS Code for Python Beginners 🐍</td>\n",
       "      <td>Visual Studio Code</td>\n",
       "      <td>12-11-2021</td>\n",
       "      <td>29.80</td>\n",
       "      <td>39350</td>\n",
       "      <td>553</td>\n",
       "      <td>22</td>\n",
       "    </tr>\n",
       "    <tr>\n",
       "      <th>26</th>\n",
       "      <td>Data Analytics with Python | Python for Data A...</td>\n",
       "      <td>Intellipaat</td>\n",
       "      <td>07-01-2021</td>\n",
       "      <td>417.48</td>\n",
       "      <td>21183</td>\n",
       "      <td>680</td>\n",
       "      <td>28</td>\n",
       "    </tr>\n",
       "    <tr>\n",
       "      <th>27</th>\n",
       "      <td>Ethical Hacking using Python | Password Cracke...</td>\n",
       "      <td>edureka!</td>\n",
       "      <td>31-01-2019</td>\n",
       "      <td>18.38</td>\n",
       "      <td>1026967</td>\n",
       "      <td>21368</td>\n",
       "      <td>490</td>\n",
       "    </tr>\n",
       "    <tr>\n",
       "      <th>28</th>\n",
       "      <td>Top 10 Books To Learn Python For Beginners and...</td>\n",
       "      <td>Simplilearn</td>\n",
       "      <td>22-09-2020</td>\n",
       "      <td>13.03</td>\n",
       "      <td>12397</td>\n",
       "      <td>298</td>\n",
       "      <td>17</td>\n",
       "    </tr>\n",
       "  </tbody>\n",
       "</table>\n",
       "</div>"
      ],
      "text/plain": [
       "                                                title          Channel Name  \\\n",
       "0   Python Basics | Python Tutorial For Beginners ...              edureka!   \n",
       "1   Python Programming Full Course (Basics + Advan...           Simplilearn   \n",
       "2   Python Full Course 2022 | Python Tutorial For ...           Simplilearn   \n",
       "3                      CS50 2021 - Lecture 6 - Python                  CS50   \n",
       "4   Python Examples | Python Programs For Beginner...              edureka!   \n",
       "5   Best Way to Learn Python for Non Programmer | ...           Intellipaat   \n",
       "6   Advance Python Programming Full Course | Pytho...           Simplilearn   \n",
       "7   Python Expert Full Course | Python Expert Tuto...           Simplilearn   \n",
       "8   Coding Livestream - Creating an Online Chat Ap...         Tech With Tim   \n",
       "9   Tips To Learn Python Programming | Effective T...           Simplilearn   \n",
       "10  Python Developer Full course | Python Programm...           Simplilearn   \n",
       "11                                      Python Coding       Manocha Academy   \n",
       "12            Python in Unreal Engine | Inside Unreal         Unreal Engine   \n",
       "13                Introduction to the Python Debugger  London App Developer   \n",
       "14  Intro to Python Livestream - Python Basics wit...      freeCodeCamp.org   \n",
       "15  Python Tutorial for Beginners | Introduction t...           Intellipaat   \n",
       "16  Python Study Group - 12 Week Session w/Brent (...      Cyber Insecurity   \n",
       "17  12 Hour Coding Livestream - Creating an Online...         Tech With Tim   \n",
       "18  Python SciPy Tutorial | Solving Numerical and ...              edureka!   \n",
       "19  Making Python 5x FASTER with Guido van Rossum ...           Talk Python   \n",
       "20  Introduction to Python SciPy | Python SciPy Tu...              edureka!   \n",
       "21  Data Analysis Using Python & SQL | Data Analys...           Simplilearn   \n",
       "22  What Are Python Modules? | Modules In Python |...              edureka!   \n",
       "23                 Deploying Your Python Applications          DigitalOcean   \n",
       "24  Python OOPS Concepts | Python OOP Tutorial | P...              edureka!   \n",
       "25          Setting up VS Code for Python Beginners 🐍    Visual Studio Code   \n",
       "26  Data Analytics with Python | Python for Data A...           Intellipaat   \n",
       "27  Ethical Hacking using Python | Password Cracke...              edureka!   \n",
       "28  Top 10 Books To Learn Python For Beginners and...           Simplilearn   \n",
       "\n",
       "   Release Date (Day-Month-Year)  Duration (in minutes)  Total Views  \\\n",
       "0                     09-10-2019                  91.52       842649   \n",
       "1                     25-03-2021                 494.33        56051   \n",
       "2                     30-01-2022                 579.48        45930   \n",
       "3                     13-10-2021                 175.02        95712   \n",
       "4                     07-05-2019                  51.55       174320   \n",
       "5                     13-10-2020                  32.33         8273   \n",
       "6                     18-03-2021                 147.02        52300   \n",
       "7                     04-09-2021                 576.45        31432   \n",
       "8                     04-02-2020                 269.67       479966   \n",
       "9                     21-01-2021                   8.52         8720   \n",
       "10                    21-07-2021                 574.93        23377   \n",
       "11                    25-05-2021                  72.35        65656   \n",
       "12                    30-05-2019                 103.93        77557   \n",
       "13                    02-09-2017                  15.32        67161   \n",
       "14                    07-07-2020                 119.28       191132   \n",
       "15                    26-04-2021                  15.50        22193   \n",
       "16                    26-01-2022                  70.27         5380   \n",
       "17                    18-10-2019                 715.02      7969709   \n",
       "18                    11-09-2019                  19.82        76165   \n",
       "19                    02-11-2021                  69.45         5551   \n",
       "20                    27-08-2020                  20.05         9422   \n",
       "21                    24-06-2021                 433.62        42493   \n",
       "22                    15-05-2019                  22.43        72792   \n",
       "23                    26-05-2021                  66.73         7355   \n",
       "24                    09-11-2017                  32.90       268005   \n",
       "25                    12-11-2021                  29.80        39350   \n",
       "26                    07-01-2021                 417.48        21183   \n",
       "27                    31-01-2019                  18.38      1026967   \n",
       "28                    22-09-2020                  13.03        12397   \n",
       "\n",
       "    Total Likes  Total Comments  \n",
       "0         15336             156  \n",
       "1          1956              52  \n",
       "2          1749              27  \n",
       "3          2653             119  \n",
       "4          2537              35  \n",
       "5           235               7  \n",
       "6          1334              47  \n",
       "7          1379              25  \n",
       "8         11240             346  \n",
       "9           376              13  \n",
       "10          842              15  \n",
       "11         3656             292  \n",
       "12         1132              74  \n",
       "13          769              69  \n",
       "14         4131             116  \n",
       "15          864              43  \n",
       "16          366              13  \n",
       "17       163722            2892  \n",
       "18         1031              27  \n",
       "19          256              21  \n",
       "20          208               2  \n",
       "21         1423              17  \n",
       "22         1232              24  \n",
       "23          151               7  \n",
       "24         3311              44  \n",
       "25          553              22  \n",
       "26          680              28  \n",
       "27        21368             490  \n",
       "28          298              17  "
      ]
     },
     "execution_count": 305,
     "metadata": {},
     "output_type": "execute_result"
    }
   ],
   "source": [
    "music_data"
   ]
  },
  {
   "cell_type": "code",
   "execution_count": 252,
   "id": "0a550069",
   "metadata": {},
   "outputs": [
    {
     "data": {
      "application/vnd.plotly.v1+json": {
       "config": {
        "plotlyServerURL": "https://plot.ly"
       },
       "data": [
        {
         "hovertemplate": "Channel Name=edureka!<br>Duration (in minutes)=%{x}<br>Total Views=%{y}<extra></extra>",
         "legendgroup": "edureka!",
         "marker": {
          "color": "#636efa",
          "symbol": "circle"
         },
         "mode": "markers",
         "name": "edureka!",
         "orientation": "v",
         "showlegend": true,
         "type": "scatter",
         "x": [
          91.52,
          51.55,
          19.82,
          20.05,
          22.43,
          32.9,
          18.38
         ],
         "xaxis": "x",
         "y": [
          842649,
          174320,
          76165,
          9422,
          72792,
          268005,
          1026967
         ],
         "yaxis": "y"
        },
        {
         "hovertemplate": "Channel Name=Simplilearn<br>Duration (in minutes)=%{x}<br>Total Views=%{y}<extra></extra>",
         "legendgroup": "Simplilearn",
         "marker": {
          "color": "#EF553B",
          "symbol": "circle"
         },
         "mode": "markers",
         "name": "Simplilearn",
         "orientation": "v",
         "showlegend": true,
         "type": "scatter",
         "x": [
          494.33,
          579.48,
          147.02,
          576.45,
          8.52,
          574.93,
          433.62,
          13.03
         ],
         "xaxis": "x",
         "y": [
          56051,
          45930,
          52300,
          31432,
          8720,
          23377,
          42493,
          12397
         ],
         "yaxis": "y"
        },
        {
         "hovertemplate": "Channel Name=CS50<br>Duration (in minutes)=%{x}<br>Total Views=%{y}<extra></extra>",
         "legendgroup": "CS50",
         "marker": {
          "color": "#00cc96",
          "symbol": "circle"
         },
         "mode": "markers",
         "name": "CS50",
         "orientation": "v",
         "showlegend": true,
         "type": "scatter",
         "x": [
          175.02
         ],
         "xaxis": "x",
         "y": [
          95712
         ],
         "yaxis": "y"
        },
        {
         "hovertemplate": "Channel Name=Intellipaat<br>Duration (in minutes)=%{x}<br>Total Views=%{y}<extra></extra>",
         "legendgroup": "Intellipaat",
         "marker": {
          "color": "#ab63fa",
          "symbol": "circle"
         },
         "mode": "markers",
         "name": "Intellipaat",
         "orientation": "v",
         "showlegend": true,
         "type": "scatter",
         "x": [
          32.33,
          15.5,
          417.48
         ],
         "xaxis": "x",
         "y": [
          8273,
          22193,
          21183
         ],
         "yaxis": "y"
        },
        {
         "hovertemplate": "Channel Name=Tech With Tim<br>Duration (in minutes)=%{x}<br>Total Views=%{y}<extra></extra>",
         "legendgroup": "Tech With Tim",
         "marker": {
          "color": "#FFA15A",
          "symbol": "circle"
         },
         "mode": "markers",
         "name": "Tech With Tim",
         "orientation": "v",
         "showlegend": true,
         "type": "scatter",
         "x": [
          269.67,
          715.02
         ],
         "xaxis": "x",
         "y": [
          479966,
          7969709
         ],
         "yaxis": "y"
        },
        {
         "hovertemplate": "Channel Name=Manocha Academy<br>Duration (in minutes)=%{x}<br>Total Views=%{y}<extra></extra>",
         "legendgroup": "Manocha Academy",
         "marker": {
          "color": "#19d3f3",
          "symbol": "circle"
         },
         "mode": "markers",
         "name": "Manocha Academy",
         "orientation": "v",
         "showlegend": true,
         "type": "scatter",
         "x": [
          72.35
         ],
         "xaxis": "x",
         "y": [
          65656
         ],
         "yaxis": "y"
        },
        {
         "hovertemplate": "Channel Name=Unreal Engine<br>Duration (in minutes)=%{x}<br>Total Views=%{y}<extra></extra>",
         "legendgroup": "Unreal Engine",
         "marker": {
          "color": "#FF6692",
          "symbol": "circle"
         },
         "mode": "markers",
         "name": "Unreal Engine",
         "orientation": "v",
         "showlegend": true,
         "type": "scatter",
         "x": [
          103.93
         ],
         "xaxis": "x",
         "y": [
          77557
         ],
         "yaxis": "y"
        },
        {
         "hovertemplate": "Channel Name=London App Developer<br>Duration (in minutes)=%{x}<br>Total Views=%{y}<extra></extra>",
         "legendgroup": "London App Developer",
         "marker": {
          "color": "#B6E880",
          "symbol": "circle"
         },
         "mode": "markers",
         "name": "London App Developer",
         "orientation": "v",
         "showlegend": true,
         "type": "scatter",
         "x": [
          15.32
         ],
         "xaxis": "x",
         "y": [
          67161
         ],
         "yaxis": "y"
        },
        {
         "hovertemplate": "Channel Name=freeCodeCamp.org<br>Duration (in minutes)=%{x}<br>Total Views=%{y}<extra></extra>",
         "legendgroup": "freeCodeCamp.org",
         "marker": {
          "color": "#FF97FF",
          "symbol": "circle"
         },
         "mode": "markers",
         "name": "freeCodeCamp.org",
         "orientation": "v",
         "showlegend": true,
         "type": "scatter",
         "x": [
          119.28
         ],
         "xaxis": "x",
         "y": [
          191132
         ],
         "yaxis": "y"
        },
        {
         "hovertemplate": "Channel Name=Cyber Insecurity<br>Duration (in minutes)=%{x}<br>Total Views=%{y}<extra></extra>",
         "legendgroup": "Cyber Insecurity",
         "marker": {
          "color": "#FECB52",
          "symbol": "circle"
         },
         "mode": "markers",
         "name": "Cyber Insecurity",
         "orientation": "v",
         "showlegend": true,
         "type": "scatter",
         "x": [
          70.27
         ],
         "xaxis": "x",
         "y": [
          5380
         ],
         "yaxis": "y"
        },
        {
         "hovertemplate": "Channel Name=Talk Python<br>Duration (in minutes)=%{x}<br>Total Views=%{y}<extra></extra>",
         "legendgroup": "Talk Python",
         "marker": {
          "color": "#636efa",
          "symbol": "circle"
         },
         "mode": "markers",
         "name": "Talk Python",
         "orientation": "v",
         "showlegend": true,
         "type": "scatter",
         "x": [
          69.45
         ],
         "xaxis": "x",
         "y": [
          5551
         ],
         "yaxis": "y"
        },
        {
         "hovertemplate": "Channel Name=DigitalOcean<br>Duration (in minutes)=%{x}<br>Total Views=%{y}<extra></extra>",
         "legendgroup": "DigitalOcean",
         "marker": {
          "color": "#EF553B",
          "symbol": "circle"
         },
         "mode": "markers",
         "name": "DigitalOcean",
         "orientation": "v",
         "showlegend": true,
         "type": "scatter",
         "x": [
          66.73
         ],
         "xaxis": "x",
         "y": [
          7355
         ],
         "yaxis": "y"
        },
        {
         "hovertemplate": "Channel Name=Visual Studio Code<br>Duration (in minutes)=%{x}<br>Total Views=%{y}<extra></extra>",
         "legendgroup": "Visual Studio Code",
         "marker": {
          "color": "#00cc96",
          "symbol": "circle"
         },
         "mode": "markers",
         "name": "Visual Studio Code",
         "orientation": "v",
         "showlegend": true,
         "type": "scatter",
         "x": [
          29.8
         ],
         "xaxis": "x",
         "y": [
          39350
         ],
         "yaxis": "y"
        }
       ],
       "layout": {
        "legend": {
         "title": {
          "text": "Channel Name"
         },
         "tracegroupgap": 0
        },
        "margin": {
         "t": 60
        },
        "template": {
         "data": {
          "bar": [
           {
            "error_x": {
             "color": "#2a3f5f"
            },
            "error_y": {
             "color": "#2a3f5f"
            },
            "marker": {
             "line": {
              "color": "#E5ECF6",
              "width": 0.5
             },
             "pattern": {
              "fillmode": "overlay",
              "size": 10,
              "solidity": 0.2
             }
            },
            "type": "bar"
           }
          ],
          "barpolar": [
           {
            "marker": {
             "line": {
              "color": "#E5ECF6",
              "width": 0.5
             },
             "pattern": {
              "fillmode": "overlay",
              "size": 10,
              "solidity": 0.2
             }
            },
            "type": "barpolar"
           }
          ],
          "carpet": [
           {
            "aaxis": {
             "endlinecolor": "#2a3f5f",
             "gridcolor": "white",
             "linecolor": "white",
             "minorgridcolor": "white",
             "startlinecolor": "#2a3f5f"
            },
            "baxis": {
             "endlinecolor": "#2a3f5f",
             "gridcolor": "white",
             "linecolor": "white",
             "minorgridcolor": "white",
             "startlinecolor": "#2a3f5f"
            },
            "type": "carpet"
           }
          ],
          "choropleth": [
           {
            "colorbar": {
             "outlinewidth": 0,
             "ticks": ""
            },
            "type": "choropleth"
           }
          ],
          "contour": [
           {
            "colorbar": {
             "outlinewidth": 0,
             "ticks": ""
            },
            "colorscale": [
             [
              0,
              "#0d0887"
             ],
             [
              0.1111111111111111,
              "#46039f"
             ],
             [
              0.2222222222222222,
              "#7201a8"
             ],
             [
              0.3333333333333333,
              "#9c179e"
             ],
             [
              0.4444444444444444,
              "#bd3786"
             ],
             [
              0.5555555555555556,
              "#d8576b"
             ],
             [
              0.6666666666666666,
              "#ed7953"
             ],
             [
              0.7777777777777778,
              "#fb9f3a"
             ],
             [
              0.8888888888888888,
              "#fdca26"
             ],
             [
              1,
              "#f0f921"
             ]
            ],
            "type": "contour"
           }
          ],
          "contourcarpet": [
           {
            "colorbar": {
             "outlinewidth": 0,
             "ticks": ""
            },
            "type": "contourcarpet"
           }
          ],
          "heatmap": [
           {
            "colorbar": {
             "outlinewidth": 0,
             "ticks": ""
            },
            "colorscale": [
             [
              0,
              "#0d0887"
             ],
             [
              0.1111111111111111,
              "#46039f"
             ],
             [
              0.2222222222222222,
              "#7201a8"
             ],
             [
              0.3333333333333333,
              "#9c179e"
             ],
             [
              0.4444444444444444,
              "#bd3786"
             ],
             [
              0.5555555555555556,
              "#d8576b"
             ],
             [
              0.6666666666666666,
              "#ed7953"
             ],
             [
              0.7777777777777778,
              "#fb9f3a"
             ],
             [
              0.8888888888888888,
              "#fdca26"
             ],
             [
              1,
              "#f0f921"
             ]
            ],
            "type": "heatmap"
           }
          ],
          "heatmapgl": [
           {
            "colorbar": {
             "outlinewidth": 0,
             "ticks": ""
            },
            "colorscale": [
             [
              0,
              "#0d0887"
             ],
             [
              0.1111111111111111,
              "#46039f"
             ],
             [
              0.2222222222222222,
              "#7201a8"
             ],
             [
              0.3333333333333333,
              "#9c179e"
             ],
             [
              0.4444444444444444,
              "#bd3786"
             ],
             [
              0.5555555555555556,
              "#d8576b"
             ],
             [
              0.6666666666666666,
              "#ed7953"
             ],
             [
              0.7777777777777778,
              "#fb9f3a"
             ],
             [
              0.8888888888888888,
              "#fdca26"
             ],
             [
              1,
              "#f0f921"
             ]
            ],
            "type": "heatmapgl"
           }
          ],
          "histogram": [
           {
            "marker": {
             "pattern": {
              "fillmode": "overlay",
              "size": 10,
              "solidity": 0.2
             }
            },
            "type": "histogram"
           }
          ],
          "histogram2d": [
           {
            "colorbar": {
             "outlinewidth": 0,
             "ticks": ""
            },
            "colorscale": [
             [
              0,
              "#0d0887"
             ],
             [
              0.1111111111111111,
              "#46039f"
             ],
             [
              0.2222222222222222,
              "#7201a8"
             ],
             [
              0.3333333333333333,
              "#9c179e"
             ],
             [
              0.4444444444444444,
              "#bd3786"
             ],
             [
              0.5555555555555556,
              "#d8576b"
             ],
             [
              0.6666666666666666,
              "#ed7953"
             ],
             [
              0.7777777777777778,
              "#fb9f3a"
             ],
             [
              0.8888888888888888,
              "#fdca26"
             ],
             [
              1,
              "#f0f921"
             ]
            ],
            "type": "histogram2d"
           }
          ],
          "histogram2dcontour": [
           {
            "colorbar": {
             "outlinewidth": 0,
             "ticks": ""
            },
            "colorscale": [
             [
              0,
              "#0d0887"
             ],
             [
              0.1111111111111111,
              "#46039f"
             ],
             [
              0.2222222222222222,
              "#7201a8"
             ],
             [
              0.3333333333333333,
              "#9c179e"
             ],
             [
              0.4444444444444444,
              "#bd3786"
             ],
             [
              0.5555555555555556,
              "#d8576b"
             ],
             [
              0.6666666666666666,
              "#ed7953"
             ],
             [
              0.7777777777777778,
              "#fb9f3a"
             ],
             [
              0.8888888888888888,
              "#fdca26"
             ],
             [
              1,
              "#f0f921"
             ]
            ],
            "type": "histogram2dcontour"
           }
          ],
          "mesh3d": [
           {
            "colorbar": {
             "outlinewidth": 0,
             "ticks": ""
            },
            "type": "mesh3d"
           }
          ],
          "parcoords": [
           {
            "line": {
             "colorbar": {
              "outlinewidth": 0,
              "ticks": ""
             }
            },
            "type": "parcoords"
           }
          ],
          "pie": [
           {
            "automargin": true,
            "type": "pie"
           }
          ],
          "scatter": [
           {
            "marker": {
             "colorbar": {
              "outlinewidth": 0,
              "ticks": ""
             }
            },
            "type": "scatter"
           }
          ],
          "scatter3d": [
           {
            "line": {
             "colorbar": {
              "outlinewidth": 0,
              "ticks": ""
             }
            },
            "marker": {
             "colorbar": {
              "outlinewidth": 0,
              "ticks": ""
             }
            },
            "type": "scatter3d"
           }
          ],
          "scattercarpet": [
           {
            "marker": {
             "colorbar": {
              "outlinewidth": 0,
              "ticks": ""
             }
            },
            "type": "scattercarpet"
           }
          ],
          "scattergeo": [
           {
            "marker": {
             "colorbar": {
              "outlinewidth": 0,
              "ticks": ""
             }
            },
            "type": "scattergeo"
           }
          ],
          "scattergl": [
           {
            "marker": {
             "colorbar": {
              "outlinewidth": 0,
              "ticks": ""
             }
            },
            "type": "scattergl"
           }
          ],
          "scattermapbox": [
           {
            "marker": {
             "colorbar": {
              "outlinewidth": 0,
              "ticks": ""
             }
            },
            "type": "scattermapbox"
           }
          ],
          "scatterpolar": [
           {
            "marker": {
             "colorbar": {
              "outlinewidth": 0,
              "ticks": ""
             }
            },
            "type": "scatterpolar"
           }
          ],
          "scatterpolargl": [
           {
            "marker": {
             "colorbar": {
              "outlinewidth": 0,
              "ticks": ""
             }
            },
            "type": "scatterpolargl"
           }
          ],
          "scatterternary": [
           {
            "marker": {
             "colorbar": {
              "outlinewidth": 0,
              "ticks": ""
             }
            },
            "type": "scatterternary"
           }
          ],
          "surface": [
           {
            "colorbar": {
             "outlinewidth": 0,
             "ticks": ""
            },
            "colorscale": [
             [
              0,
              "#0d0887"
             ],
             [
              0.1111111111111111,
              "#46039f"
             ],
             [
              0.2222222222222222,
              "#7201a8"
             ],
             [
              0.3333333333333333,
              "#9c179e"
             ],
             [
              0.4444444444444444,
              "#bd3786"
             ],
             [
              0.5555555555555556,
              "#d8576b"
             ],
             [
              0.6666666666666666,
              "#ed7953"
             ],
             [
              0.7777777777777778,
              "#fb9f3a"
             ],
             [
              0.8888888888888888,
              "#fdca26"
             ],
             [
              1,
              "#f0f921"
             ]
            ],
            "type": "surface"
           }
          ],
          "table": [
           {
            "cells": {
             "fill": {
              "color": "#EBF0F8"
             },
             "line": {
              "color": "white"
             }
            },
            "header": {
             "fill": {
              "color": "#C8D4E3"
             },
             "line": {
              "color": "white"
             }
            },
            "type": "table"
           }
          ]
         },
         "layout": {
          "annotationdefaults": {
           "arrowcolor": "#2a3f5f",
           "arrowhead": 0,
           "arrowwidth": 1
          },
          "autotypenumbers": "strict",
          "coloraxis": {
           "colorbar": {
            "outlinewidth": 0,
            "ticks": ""
           }
          },
          "colorscale": {
           "diverging": [
            [
             0,
             "#8e0152"
            ],
            [
             0.1,
             "#c51b7d"
            ],
            [
             0.2,
             "#de77ae"
            ],
            [
             0.3,
             "#f1b6da"
            ],
            [
             0.4,
             "#fde0ef"
            ],
            [
             0.5,
             "#f7f7f7"
            ],
            [
             0.6,
             "#e6f5d0"
            ],
            [
             0.7,
             "#b8e186"
            ],
            [
             0.8,
             "#7fbc41"
            ],
            [
             0.9,
             "#4d9221"
            ],
            [
             1,
             "#276419"
            ]
           ],
           "sequential": [
            [
             0,
             "#0d0887"
            ],
            [
             0.1111111111111111,
             "#46039f"
            ],
            [
             0.2222222222222222,
             "#7201a8"
            ],
            [
             0.3333333333333333,
             "#9c179e"
            ],
            [
             0.4444444444444444,
             "#bd3786"
            ],
            [
             0.5555555555555556,
             "#d8576b"
            ],
            [
             0.6666666666666666,
             "#ed7953"
            ],
            [
             0.7777777777777778,
             "#fb9f3a"
            ],
            [
             0.8888888888888888,
             "#fdca26"
            ],
            [
             1,
             "#f0f921"
            ]
           ],
           "sequentialminus": [
            [
             0,
             "#0d0887"
            ],
            [
             0.1111111111111111,
             "#46039f"
            ],
            [
             0.2222222222222222,
             "#7201a8"
            ],
            [
             0.3333333333333333,
             "#9c179e"
            ],
            [
             0.4444444444444444,
             "#bd3786"
            ],
            [
             0.5555555555555556,
             "#d8576b"
            ],
            [
             0.6666666666666666,
             "#ed7953"
            ],
            [
             0.7777777777777778,
             "#fb9f3a"
            ],
            [
             0.8888888888888888,
             "#fdca26"
            ],
            [
             1,
             "#f0f921"
            ]
           ]
          },
          "colorway": [
           "#636efa",
           "#EF553B",
           "#00cc96",
           "#ab63fa",
           "#FFA15A",
           "#19d3f3",
           "#FF6692",
           "#B6E880",
           "#FF97FF",
           "#FECB52"
          ],
          "font": {
           "color": "#2a3f5f"
          },
          "geo": {
           "bgcolor": "white",
           "lakecolor": "white",
           "landcolor": "#E5ECF6",
           "showlakes": true,
           "showland": true,
           "subunitcolor": "white"
          },
          "hoverlabel": {
           "align": "left"
          },
          "hovermode": "closest",
          "mapbox": {
           "style": "light"
          },
          "paper_bgcolor": "white",
          "plot_bgcolor": "#E5ECF6",
          "polar": {
           "angularaxis": {
            "gridcolor": "white",
            "linecolor": "white",
            "ticks": ""
           },
           "bgcolor": "#E5ECF6",
           "radialaxis": {
            "gridcolor": "white",
            "linecolor": "white",
            "ticks": ""
           }
          },
          "scene": {
           "xaxis": {
            "backgroundcolor": "#E5ECF6",
            "gridcolor": "white",
            "gridwidth": 2,
            "linecolor": "white",
            "showbackground": true,
            "ticks": "",
            "zerolinecolor": "white"
           },
           "yaxis": {
            "backgroundcolor": "#E5ECF6",
            "gridcolor": "white",
            "gridwidth": 2,
            "linecolor": "white",
            "showbackground": true,
            "ticks": "",
            "zerolinecolor": "white"
           },
           "zaxis": {
            "backgroundcolor": "#E5ECF6",
            "gridcolor": "white",
            "gridwidth": 2,
            "linecolor": "white",
            "showbackground": true,
            "ticks": "",
            "zerolinecolor": "white"
           }
          },
          "shapedefaults": {
           "line": {
            "color": "#2a3f5f"
           }
          },
          "ternary": {
           "aaxis": {
            "gridcolor": "white",
            "linecolor": "white",
            "ticks": ""
           },
           "baxis": {
            "gridcolor": "white",
            "linecolor": "white",
            "ticks": ""
           },
           "bgcolor": "#E5ECF6",
           "caxis": {
            "gridcolor": "white",
            "linecolor": "white",
            "ticks": ""
           }
          },
          "title": {
           "x": 0.05
          },
          "xaxis": {
           "automargin": true,
           "gridcolor": "white",
           "linecolor": "white",
           "ticks": "",
           "title": {
            "standoff": 15
           },
           "zerolinecolor": "white",
           "zerolinewidth": 2
          },
          "yaxis": {
           "automargin": true,
           "gridcolor": "white",
           "linecolor": "white",
           "ticks": "",
           "title": {
            "standoff": 15
           },
           "zerolinecolor": "white",
           "zerolinewidth": 2
          }
         }
        },
        "xaxis": {
         "anchor": "y",
         "domain": [
          0,
          1
         ],
         "title": {
          "text": "Duration (in minutes)"
         }
        },
        "yaxis": {
         "anchor": "x",
         "domain": [
          0,
          1
         ],
         "title": {
          "text": "Total Views"
         }
        }
       }
      }
     },
     "metadata": {},
     "output_type": "display_data"
    }
   ],
   "source": [
    "import numpy as np\n",
    "\n",
    "fig = px.scatter(music_data, x = \"Duration (in minutes)\", y=\"Total Views\",\n",
    " color = \"Channel Name\")\n",
    "fig.show()"
   ]
  },
  {
   "cell_type": "code",
   "execution_count": 231,
   "id": "958b70cd",
   "metadata": {},
   "outputs": [
    {
     "data": {
      "application/vnd.plotly.v1+json": {
       "config": {
        "plotlyServerURL": "https://plot.ly"
       },
       "data": [
        {
         "hovertemplate": "Channel Name=Jazz Cafe Music<br>Total Comments=%{x}<br>Total Likes=%{y}<br>Duration (in minutes)=%{marker.size}<extra></extra>",
         "legendgroup": "Jazz Cafe Music",
         "marker": {
          "color": "#636efa",
          "size": [
           715
          ],
          "sizemode": "area",
          "sizeref": 2.67025,
          "symbol": "circle"
         },
         "mode": "markers",
         "name": "Jazz Cafe Music",
         "orientation": "v",
         "showlegend": true,
         "type": "scatter",
         "x": [
          0
         ],
         "xaxis": "x",
         "y": [
          20
         ],
         "yaxis": "y"
        },
        {
         "hovertemplate": "Channel Name=Nature Music<br>Total Comments=%{x}<br>Total Likes=%{y}<br>Duration (in minutes)=%{marker.size}<extra></extra>",
         "legendgroup": "Nature Music",
         "marker": {
          "color": "#EF553B",
          "size": [
           714.98
          ],
          "sizemode": "area",
          "sizeref": 2.67025,
          "symbol": "circle"
         },
         "mode": "markers",
         "name": "Nature Music",
         "orientation": "v",
         "showlegend": true,
         "type": "scatter",
         "x": [
          3
         ],
         "xaxis": "x",
         "y": [
          15
         ],
         "yaxis": "y"
        },
        {
         "hovertemplate": "Channel Name=MUVI PRO<br>Total Comments=%{x}<br>Total Likes=%{y}<br>Duration (in minutes)=%{marker.size}<extra></extra>",
         "legendgroup": "MUVI PRO",
         "marker": {
          "color": "#00cc96",
          "size": [
           155.75
          ],
          "sizemode": "area",
          "sizeref": 2.67025,
          "symbol": "circle"
         },
         "mode": "markers",
         "name": "MUVI PRO",
         "orientation": "v",
         "showlegend": true,
         "type": "scatter",
         "x": [
          1
         ],
         "xaxis": "x",
         "y": [
          80
         ],
         "yaxis": "y"
        },
        {
         "hovertemplate": "Channel Name=HoriPro International<br>Total Comments=%{x}<br>Total Likes=%{y}<br>Duration (in minutes)=%{marker.size}<extra></extra>",
         "legendgroup": "HoriPro International",
         "marker": {
          "color": "#ab63fa",
          "size": [
           85.08
          ],
          "sizemode": "area",
          "sizeref": 2.67025,
          "symbol": "circle"
         },
         "mode": "markers",
         "name": "HoriPro International",
         "orientation": "v",
         "showlegend": true,
         "type": "scatter",
         "x": [
          0
         ],
         "xaxis": "x",
         "y": [
          63
         ],
         "yaxis": "y"
        },
        {
         "hovertemplate": "Channel Name=MUSIC FUN !<br>Total Comments=%{x}<br>Total Likes=%{y}<br>Duration (in minutes)=%{marker.size}<extra></extra>",
         "legendgroup": "MUSIC FUN !",
         "marker": {
          "color": "#FFA15A",
          "size": [
           161.5
          ],
          "sizemode": "area",
          "sizeref": 2.67025,
          "symbol": "circle"
         },
         "mode": "markers",
         "name": "MUSIC FUN !",
         "orientation": "v",
         "showlegend": true,
         "type": "scatter",
         "x": [
          0
         ],
         "xaxis": "x",
         "y": [
          94
         ],
         "yaxis": "y"
        },
        {
         "hovertemplate": "Channel Name=Heart Music<br>Total Comments=%{x}<br>Total Likes=%{y}<br>Duration (in minutes)=%{marker.size}<extra></extra>",
         "legendgroup": "Heart Music",
         "marker": {
          "color": "#19d3f3",
          "size": [
           156.28,
           714.97,
           551.4
          ],
          "sizemode": "area",
          "sizeref": 2.67025,
          "symbol": "circle"
         },
         "mode": "markers",
         "name": "Heart Music",
         "orientation": "v",
         "showlegend": true,
         "type": "scatter",
         "x": [
          9,
          3,
          1
         ],
         "xaxis": "x",
         "y": [
          222,
          51,
          64
         ],
         "yaxis": "y"
        },
        {
         "hovertemplate": "Channel Name=Romantic Music - Natalia Relaxation<br>Total Comments=%{x}<br>Total Likes=%{y}<br>Duration (in minutes)=%{marker.size}<extra></extra>",
         "legendgroup": "Romantic Music - Natalia Relaxation",
         "marker": {
          "color": "#FF6692",
          "size": [
           622.77
          ],
          "sizemode": "area",
          "sizeref": 2.67025,
          "symbol": "circle"
         },
         "mode": "markers",
         "name": "Romantic Music - Natalia Relaxation",
         "orientation": "v",
         "showlegend": true,
         "type": "scatter",
         "x": [
          0
         ],
         "xaxis": "x",
         "y": [
          8
         ],
         "yaxis": "y"
        },
        {
         "hovertemplate": "Channel Name=The Soul Piano Music<br>Total Comments=%{x}<br>Total Likes=%{y}<br>Duration (in minutes)=%{marker.size}<extra></extra>",
         "legendgroup": "The Soul Piano Music",
         "marker": {
          "color": "#B6E880",
          "size": [
           715.05
          ],
          "sizemode": "area",
          "sizeref": 2.67025,
          "symbol": "circle"
         },
         "mode": "markers",
         "name": "The Soul Piano Music",
         "orientation": "v",
         "showlegend": true,
         "type": "scatter",
         "x": [
          4
         ],
         "xaxis": "x",
         "y": [
          273
         ],
         "yaxis": "y"
        },
        {
         "hovertemplate": "Channel Name=ItsOnlyUs<br>Total Comments=%{x}<br>Total Likes=%{y}<br>Duration (in minutes)=%{marker.size}<extra></extra>",
         "legendgroup": "ItsOnlyUs",
         "marker": {
          "color": "#FF97FF",
          "size": [
           2
          ],
          "sizemode": "area",
          "sizeref": 2.67025,
          "symbol": "circle"
         },
         "mode": "markers",
         "name": "ItsOnlyUs",
         "orientation": "v",
         "showlegend": true,
         "type": "scatter",
         "x": [
          1
         ],
         "xaxis": "x",
         "y": [
          7
         ],
         "yaxis": "y"
        },
        {
         "hovertemplate": "Channel Name=Earth Relaxation<br>Total Comments=%{x}<br>Total Likes=%{y}<br>Duration (in minutes)=%{marker.size}<extra></extra>",
         "legendgroup": "Earth Relaxation",
         "marker": {
          "color": "#FECB52",
          "size": [
           715.02
          ],
          "sizemode": "area",
          "sizeref": 2.67025,
          "symbol": "circle"
         },
         "mode": "markers",
         "name": "Earth Relaxation",
         "orientation": "v",
         "showlegend": true,
         "type": "scatter",
         "x": [
          5
         ],
         "xaxis": "x",
         "y": [
          494
         ],
         "yaxis": "y"
        },
        {
         "hovertemplate": "Channel Name=Misis ni LAKAY<br>Total Comments=%{x}<br>Total Likes=%{y}<br>Duration (in minutes)=%{marker.size}<extra></extra>",
         "legendgroup": "Misis ni LAKAY",
         "marker": {
          "color": "#636efa",
          "size": [
           238.35
          ],
          "sizemode": "area",
          "sizeref": 2.67025,
          "symbol": "circle"
         },
         "mode": "markers",
         "name": "Misis ni LAKAY",
         "orientation": "v",
         "showlegend": true,
         "type": "scatter",
         "x": [
          6
         ],
         "xaxis": "x",
         "y": [
          437
         ],
         "yaxis": "y"
        },
        {
         "hovertemplate": "Channel Name=PMC Telugu<br>Total Comments=%{x}<br>Total Likes=%{y}<br>Duration (in minutes)=%{marker.size}<extra></extra>",
         "legendgroup": "PMC Telugu",
         "marker": {
          "color": "#EF553B",
          "size": [
           146.6,
           166.67
          ],
          "sizemode": "area",
          "sizeref": 2.67025,
          "symbol": "circle"
         },
         "mode": "markers",
         "name": "PMC Telugu",
         "orientation": "v",
         "showlegend": true,
         "type": "scatter",
         "x": [
          0,
          0
         ],
         "xaxis": "x",
         "y": [
          18,
          23
         ],
         "yaxis": "y"
        },
        {
         "hovertemplate": "Channel Name=Peaceful Sounds<br>Total Comments=%{x}<br>Total Likes=%{y}<br>Duration (in minutes)=%{marker.size}<extra></extra>",
         "legendgroup": "Peaceful Sounds",
         "marker": {
          "color": "#00cc96",
          "size": [
           714.93
          ],
          "sizemode": "area",
          "sizeref": 2.67025,
          "symbol": "circle"
         },
         "mode": "markers",
         "name": "Peaceful Sounds",
         "orientation": "v",
         "showlegend": true,
         "type": "scatter",
         "x": [
          8
         ],
         "xaxis": "x",
         "y": [
          170
         ],
         "yaxis": "y"
        },
        {
         "hovertemplate": "Channel Name=Lifestyle Music<br>Total Comments=%{x}<br>Total Likes=%{y}<br>Duration (in minutes)=%{marker.size}<extra></extra>",
         "legendgroup": "Lifestyle Music",
         "marker": {
          "color": "#ab63fa",
          "size": [
           714.98
          ],
          "sizemode": "area",
          "sizeref": 2.67025,
          "symbol": "circle"
         },
         "mode": "markers",
         "name": "Lifestyle Music",
         "orientation": "v",
         "showlegend": true,
         "type": "scatter",
         "x": [
          0
         ],
         "xaxis": "x",
         "y": [
          10
         ],
         "yaxis": "y"
        },
        {
         "hovertemplate": "Channel Name=Nature Relaxation Music<br>Total Comments=%{x}<br>Total Likes=%{y}<br>Duration (in minutes)=%{marker.size}<extra></extra>",
         "legendgroup": "Nature Relaxation Music",
         "marker": {
          "color": "#FFA15A",
          "size": [
           714.97,
           1068.1,
           714.97,
           714.98,
           714.98
          ],
          "sizemode": "area",
          "sizeref": 2.67025,
          "symbol": "circle"
         },
         "mode": "markers",
         "name": "Nature Relaxation Music",
         "orientation": "v",
         "showlegend": true,
         "type": "scatter",
         "x": [
          4,
          0,
          12,
          14,
          17
         ],
         "xaxis": "x",
         "y": [
          1862,
          2355,
          10156,
          2362,
          1519
         ],
         "yaxis": "y"
        },
        {
         "hovertemplate": "Channel Name=Music Around The World<br>Total Comments=%{x}<br>Total Likes=%{y}<br>Duration (in minutes)=%{marker.size}<extra></extra>",
         "legendgroup": "Music Around The World",
         "marker": {
          "color": "#19d3f3",
          "size": [
           714.97
          ],
          "sizemode": "area",
          "sizeref": 2.67025,
          "symbol": "circle"
         },
         "mode": "markers",
         "name": "Music Around The World",
         "orientation": "v",
         "showlegend": true,
         "type": "scatter",
         "x": [
          14
         ],
         "xaxis": "x",
         "y": [
          21865
         ],
         "yaxis": "y"
        },
        {
         "hovertemplate": "Channel Name=4pm<br>Total Comments=%{x}<br>Total Likes=%{y}<br>Duration (in minutes)=%{marker.size}<extra></extra>",
         "legendgroup": "4pm",
         "marker": {
          "color": "#FF6692",
          "size": [
           714.98,
           714.98,
           715
          ],
          "sizemode": "area",
          "sizeref": 2.67025,
          "symbol": "circle"
         },
         "mode": "markers",
         "name": "4pm",
         "orientation": "v",
         "showlegend": true,
         "type": "scatter",
         "x": [
          1,
          3,
          1
         ],
         "xaxis": "x",
         "y": [
          3168,
          3819,
          2282
         ],
         "yaxis": "y"
        },
        {
         "hovertemplate": "Channel Name=Mii Music<br>Total Comments=%{x}<br>Total Likes=%{y}<br>Duration (in minutes)=%{marker.size}<extra></extra>",
         "legendgroup": "Mii Music",
         "marker": {
          "color": "#B6E880",
          "size": [
           302.62
          ],
          "sizemode": "area",
          "sizeref": 2.67025,
          "symbol": "circle"
         },
         "mode": "markers",
         "name": "Mii Music",
         "orientation": "v",
         "showlegend": true,
         "type": "scatter",
         "x": [
          21
         ],
         "xaxis": "x",
         "y": [
          940
         ],
         "yaxis": "y"
        },
        {
         "hovertemplate": "Channel Name=XDeep Music<br>Total Comments=%{x}<br>Total Likes=%{y}<br>Duration (in minutes)=%{marker.size}<extra></extra>",
         "legendgroup": "XDeep Music",
         "marker": {
          "color": "#FF97FF",
          "size": [
           714.93
          ],
          "sizemode": "area",
          "sizeref": 2.67025,
          "symbol": "circle"
         },
         "mode": "markers",
         "name": "XDeep Music",
         "orientation": "v",
         "showlegend": true,
         "type": "scatter",
         "x": [
          1
         ],
         "xaxis": "x",
         "y": [
          790
         ],
         "yaxis": "y"
        },
        {
         "hovertemplate": "Channel Name=Deep Legacy.<br>Total Comments=%{x}<br>Total Likes=%{y}<br>Duration (in minutes)=%{marker.size}<extra></extra>",
         "legendgroup": "Deep Legacy.",
         "marker": {
          "color": "#FECB52",
          "size": [
           714.97,
           714.98
          ],
          "sizemode": "area",
          "sizeref": 2.67025,
          "symbol": "circle"
         },
         "mode": "markers",
         "name": "Deep Legacy.",
         "orientation": "v",
         "showlegend": true,
         "type": "scatter",
         "x": [
          5,
          0
         ],
         "xaxis": "x",
         "y": [
          2115,
          2153
         ],
         "yaxis": "y"
        },
        {
         "hovertemplate": "Channel Name=Hot Vibes<br>Total Comments=%{x}<br>Total Likes=%{y}<br>Duration (in minutes)=%{marker.size}<extra></extra>",
         "legendgroup": "Hot Vibes",
         "marker": {
          "color": "#636efa",
          "size": [
           715
          ],
          "sizemode": "area",
          "sizeref": 2.67025,
          "symbol": "circle"
         },
         "mode": "markers",
         "name": "Hot Vibes",
         "orientation": "v",
         "showlegend": true,
         "type": "scatter",
         "x": [
          1
         ],
         "xaxis": "x",
         "y": [
          1828
         ],
         "yaxis": "y"
        },
        {
         "hovertemplate": "Channel Name=Tropical House Radio<br>Total Comments=%{x}<br>Total Likes=%{y}<br>Duration (in minutes)=%{marker.size}<extra></extra>",
         "legendgroup": "Tropical House Radio",
         "marker": {
          "color": "#EF553B",
          "size": [
           714.93,
           714.95,
           715,
           714.98,
           714.97,
           714.97
          ],
          "sizemode": "area",
          "sizeref": 2.67025,
          "symbol": "circle"
         },
         "mode": "markers",
         "name": "Tropical House Radio",
         "orientation": "v",
         "showlegend": true,
         "type": "scatter",
         "x": [
          3,
          2,
          6,
          4,
          4,
          10
         ],
         "xaxis": "x",
         "y": [
          1804,
          2155,
          2376,
          2258,
          1640,
          1798
         ],
         "yaxis": "y"
        },
        {
         "hovertemplate": "Channel Name=Queen Deep<br>Total Comments=%{x}<br>Total Likes=%{y}<br>Duration (in minutes)=%{marker.size}<extra></extra>",
         "legendgroup": "Queen Deep",
         "marker": {
          "color": "#00cc96",
          "size": [
           715
          ],
          "sizemode": "area",
          "sizeref": 2.67025,
          "symbol": "circle"
         },
         "mode": "markers",
         "name": "Queen Deep",
         "orientation": "v",
         "showlegend": true,
         "type": "scatter",
         "x": [
          0
         ],
         "xaxis": "x",
         "y": [
          973
         ],
         "yaxis": "y"
        },
        {
         "hovertemplate": "Channel Name=Helios Deep<br>Total Comments=%{x}<br>Total Likes=%{y}<br>Duration (in minutes)=%{marker.size}<extra></extra>",
         "legendgroup": "Helios Deep",
         "marker": {
          "color": "#ab63fa",
          "size": [
           714.95
          ],
          "sizemode": "area",
          "sizeref": 2.67025,
          "symbol": "circle"
         },
         "mode": "markers",
         "name": "Helios Deep",
         "orientation": "v",
         "showlegend": true,
         "type": "scatter",
         "x": [
          2
         ],
         "xaxis": "x",
         "y": [
          1515
         ],
         "yaxis": "y"
        },
        {
         "hovertemplate": "Channel Name=DEMONDICE<br>Total Comments=%{x}<br>Total Likes=%{y}<br>Duration (in minutes)=%{marker.size}<extra></extra>",
         "legendgroup": "DEMONDICE",
         "marker": {
          "color": "#FFA15A",
          "size": [
           225.17
          ],
          "sizemode": "area",
          "sizeref": 2.67025,
          "symbol": "circle"
         },
         "mode": "markers",
         "name": "DEMONDICE",
         "orientation": "v",
         "showlegend": true,
         "type": "scatter",
         "x": [
          210
         ],
         "xaxis": "x",
         "y": [
          19173
         ],
         "yaxis": "y"
        }
       ],
       "layout": {
        "legend": {
         "itemsizing": "constant",
         "title": {
          "text": "Channel Name"
         },
         "tracegroupgap": 0
        },
        "margin": {
         "t": 60
        },
        "template": {
         "data": {
          "bar": [
           {
            "error_x": {
             "color": "#2a3f5f"
            },
            "error_y": {
             "color": "#2a3f5f"
            },
            "marker": {
             "line": {
              "color": "#E5ECF6",
              "width": 0.5
             },
             "pattern": {
              "fillmode": "overlay",
              "size": 10,
              "solidity": 0.2
             }
            },
            "type": "bar"
           }
          ],
          "barpolar": [
           {
            "marker": {
             "line": {
              "color": "#E5ECF6",
              "width": 0.5
             },
             "pattern": {
              "fillmode": "overlay",
              "size": 10,
              "solidity": 0.2
             }
            },
            "type": "barpolar"
           }
          ],
          "carpet": [
           {
            "aaxis": {
             "endlinecolor": "#2a3f5f",
             "gridcolor": "white",
             "linecolor": "white",
             "minorgridcolor": "white",
             "startlinecolor": "#2a3f5f"
            },
            "baxis": {
             "endlinecolor": "#2a3f5f",
             "gridcolor": "white",
             "linecolor": "white",
             "minorgridcolor": "white",
             "startlinecolor": "#2a3f5f"
            },
            "type": "carpet"
           }
          ],
          "choropleth": [
           {
            "colorbar": {
             "outlinewidth": 0,
             "ticks": ""
            },
            "type": "choropleth"
           }
          ],
          "contour": [
           {
            "colorbar": {
             "outlinewidth": 0,
             "ticks": ""
            },
            "colorscale": [
             [
              0,
              "#0d0887"
             ],
             [
              0.1111111111111111,
              "#46039f"
             ],
             [
              0.2222222222222222,
              "#7201a8"
             ],
             [
              0.3333333333333333,
              "#9c179e"
             ],
             [
              0.4444444444444444,
              "#bd3786"
             ],
             [
              0.5555555555555556,
              "#d8576b"
             ],
             [
              0.6666666666666666,
              "#ed7953"
             ],
             [
              0.7777777777777778,
              "#fb9f3a"
             ],
             [
              0.8888888888888888,
              "#fdca26"
             ],
             [
              1,
              "#f0f921"
             ]
            ],
            "type": "contour"
           }
          ],
          "contourcarpet": [
           {
            "colorbar": {
             "outlinewidth": 0,
             "ticks": ""
            },
            "type": "contourcarpet"
           }
          ],
          "heatmap": [
           {
            "colorbar": {
             "outlinewidth": 0,
             "ticks": ""
            },
            "colorscale": [
             [
              0,
              "#0d0887"
             ],
             [
              0.1111111111111111,
              "#46039f"
             ],
             [
              0.2222222222222222,
              "#7201a8"
             ],
             [
              0.3333333333333333,
              "#9c179e"
             ],
             [
              0.4444444444444444,
              "#bd3786"
             ],
             [
              0.5555555555555556,
              "#d8576b"
             ],
             [
              0.6666666666666666,
              "#ed7953"
             ],
             [
              0.7777777777777778,
              "#fb9f3a"
             ],
             [
              0.8888888888888888,
              "#fdca26"
             ],
             [
              1,
              "#f0f921"
             ]
            ],
            "type": "heatmap"
           }
          ],
          "heatmapgl": [
           {
            "colorbar": {
             "outlinewidth": 0,
             "ticks": ""
            },
            "colorscale": [
             [
              0,
              "#0d0887"
             ],
             [
              0.1111111111111111,
              "#46039f"
             ],
             [
              0.2222222222222222,
              "#7201a8"
             ],
             [
              0.3333333333333333,
              "#9c179e"
             ],
             [
              0.4444444444444444,
              "#bd3786"
             ],
             [
              0.5555555555555556,
              "#d8576b"
             ],
             [
              0.6666666666666666,
              "#ed7953"
             ],
             [
              0.7777777777777778,
              "#fb9f3a"
             ],
             [
              0.8888888888888888,
              "#fdca26"
             ],
             [
              1,
              "#f0f921"
             ]
            ],
            "type": "heatmapgl"
           }
          ],
          "histogram": [
           {
            "marker": {
             "pattern": {
              "fillmode": "overlay",
              "size": 10,
              "solidity": 0.2
             }
            },
            "type": "histogram"
           }
          ],
          "histogram2d": [
           {
            "colorbar": {
             "outlinewidth": 0,
             "ticks": ""
            },
            "colorscale": [
             [
              0,
              "#0d0887"
             ],
             [
              0.1111111111111111,
              "#46039f"
             ],
             [
              0.2222222222222222,
              "#7201a8"
             ],
             [
              0.3333333333333333,
              "#9c179e"
             ],
             [
              0.4444444444444444,
              "#bd3786"
             ],
             [
              0.5555555555555556,
              "#d8576b"
             ],
             [
              0.6666666666666666,
              "#ed7953"
             ],
             [
              0.7777777777777778,
              "#fb9f3a"
             ],
             [
              0.8888888888888888,
              "#fdca26"
             ],
             [
              1,
              "#f0f921"
             ]
            ],
            "type": "histogram2d"
           }
          ],
          "histogram2dcontour": [
           {
            "colorbar": {
             "outlinewidth": 0,
             "ticks": ""
            },
            "colorscale": [
             [
              0,
              "#0d0887"
             ],
             [
              0.1111111111111111,
              "#46039f"
             ],
             [
              0.2222222222222222,
              "#7201a8"
             ],
             [
              0.3333333333333333,
              "#9c179e"
             ],
             [
              0.4444444444444444,
              "#bd3786"
             ],
             [
              0.5555555555555556,
              "#d8576b"
             ],
             [
              0.6666666666666666,
              "#ed7953"
             ],
             [
              0.7777777777777778,
              "#fb9f3a"
             ],
             [
              0.8888888888888888,
              "#fdca26"
             ],
             [
              1,
              "#f0f921"
             ]
            ],
            "type": "histogram2dcontour"
           }
          ],
          "mesh3d": [
           {
            "colorbar": {
             "outlinewidth": 0,
             "ticks": ""
            },
            "type": "mesh3d"
           }
          ],
          "parcoords": [
           {
            "line": {
             "colorbar": {
              "outlinewidth": 0,
              "ticks": ""
             }
            },
            "type": "parcoords"
           }
          ],
          "pie": [
           {
            "automargin": true,
            "type": "pie"
           }
          ],
          "scatter": [
           {
            "marker": {
             "colorbar": {
              "outlinewidth": 0,
              "ticks": ""
             }
            },
            "type": "scatter"
           }
          ],
          "scatter3d": [
           {
            "line": {
             "colorbar": {
              "outlinewidth": 0,
              "ticks": ""
             }
            },
            "marker": {
             "colorbar": {
              "outlinewidth": 0,
              "ticks": ""
             }
            },
            "type": "scatter3d"
           }
          ],
          "scattercarpet": [
           {
            "marker": {
             "colorbar": {
              "outlinewidth": 0,
              "ticks": ""
             }
            },
            "type": "scattercarpet"
           }
          ],
          "scattergeo": [
           {
            "marker": {
             "colorbar": {
              "outlinewidth": 0,
              "ticks": ""
             }
            },
            "type": "scattergeo"
           }
          ],
          "scattergl": [
           {
            "marker": {
             "colorbar": {
              "outlinewidth": 0,
              "ticks": ""
             }
            },
            "type": "scattergl"
           }
          ],
          "scattermapbox": [
           {
            "marker": {
             "colorbar": {
              "outlinewidth": 0,
              "ticks": ""
             }
            },
            "type": "scattermapbox"
           }
          ],
          "scatterpolar": [
           {
            "marker": {
             "colorbar": {
              "outlinewidth": 0,
              "ticks": ""
             }
            },
            "type": "scatterpolar"
           }
          ],
          "scatterpolargl": [
           {
            "marker": {
             "colorbar": {
              "outlinewidth": 0,
              "ticks": ""
             }
            },
            "type": "scatterpolargl"
           }
          ],
          "scatterternary": [
           {
            "marker": {
             "colorbar": {
              "outlinewidth": 0,
              "ticks": ""
             }
            },
            "type": "scatterternary"
           }
          ],
          "surface": [
           {
            "colorbar": {
             "outlinewidth": 0,
             "ticks": ""
            },
            "colorscale": [
             [
              0,
              "#0d0887"
             ],
             [
              0.1111111111111111,
              "#46039f"
             ],
             [
              0.2222222222222222,
              "#7201a8"
             ],
             [
              0.3333333333333333,
              "#9c179e"
             ],
             [
              0.4444444444444444,
              "#bd3786"
             ],
             [
              0.5555555555555556,
              "#d8576b"
             ],
             [
              0.6666666666666666,
              "#ed7953"
             ],
             [
              0.7777777777777778,
              "#fb9f3a"
             ],
             [
              0.8888888888888888,
              "#fdca26"
             ],
             [
              1,
              "#f0f921"
             ]
            ],
            "type": "surface"
           }
          ],
          "table": [
           {
            "cells": {
             "fill": {
              "color": "#EBF0F8"
             },
             "line": {
              "color": "white"
             }
            },
            "header": {
             "fill": {
              "color": "#C8D4E3"
             },
             "line": {
              "color": "white"
             }
            },
            "type": "table"
           }
          ]
         },
         "layout": {
          "annotationdefaults": {
           "arrowcolor": "#2a3f5f",
           "arrowhead": 0,
           "arrowwidth": 1
          },
          "autotypenumbers": "strict",
          "coloraxis": {
           "colorbar": {
            "outlinewidth": 0,
            "ticks": ""
           }
          },
          "colorscale": {
           "diverging": [
            [
             0,
             "#8e0152"
            ],
            [
             0.1,
             "#c51b7d"
            ],
            [
             0.2,
             "#de77ae"
            ],
            [
             0.3,
             "#f1b6da"
            ],
            [
             0.4,
             "#fde0ef"
            ],
            [
             0.5,
             "#f7f7f7"
            ],
            [
             0.6,
             "#e6f5d0"
            ],
            [
             0.7,
             "#b8e186"
            ],
            [
             0.8,
             "#7fbc41"
            ],
            [
             0.9,
             "#4d9221"
            ],
            [
             1,
             "#276419"
            ]
           ],
           "sequential": [
            [
             0,
             "#0d0887"
            ],
            [
             0.1111111111111111,
             "#46039f"
            ],
            [
             0.2222222222222222,
             "#7201a8"
            ],
            [
             0.3333333333333333,
             "#9c179e"
            ],
            [
             0.4444444444444444,
             "#bd3786"
            ],
            [
             0.5555555555555556,
             "#d8576b"
            ],
            [
             0.6666666666666666,
             "#ed7953"
            ],
            [
             0.7777777777777778,
             "#fb9f3a"
            ],
            [
             0.8888888888888888,
             "#fdca26"
            ],
            [
             1,
             "#f0f921"
            ]
           ],
           "sequentialminus": [
            [
             0,
             "#0d0887"
            ],
            [
             0.1111111111111111,
             "#46039f"
            ],
            [
             0.2222222222222222,
             "#7201a8"
            ],
            [
             0.3333333333333333,
             "#9c179e"
            ],
            [
             0.4444444444444444,
             "#bd3786"
            ],
            [
             0.5555555555555556,
             "#d8576b"
            ],
            [
             0.6666666666666666,
             "#ed7953"
            ],
            [
             0.7777777777777778,
             "#fb9f3a"
            ],
            [
             0.8888888888888888,
             "#fdca26"
            ],
            [
             1,
             "#f0f921"
            ]
           ]
          },
          "colorway": [
           "#636efa",
           "#EF553B",
           "#00cc96",
           "#ab63fa",
           "#FFA15A",
           "#19d3f3",
           "#FF6692",
           "#B6E880",
           "#FF97FF",
           "#FECB52"
          ],
          "font": {
           "color": "#2a3f5f"
          },
          "geo": {
           "bgcolor": "white",
           "lakecolor": "white",
           "landcolor": "#E5ECF6",
           "showlakes": true,
           "showland": true,
           "subunitcolor": "white"
          },
          "hoverlabel": {
           "align": "left"
          },
          "hovermode": "closest",
          "mapbox": {
           "style": "light"
          },
          "paper_bgcolor": "white",
          "plot_bgcolor": "#E5ECF6",
          "polar": {
           "angularaxis": {
            "gridcolor": "white",
            "linecolor": "white",
            "ticks": ""
           },
           "bgcolor": "#E5ECF6",
           "radialaxis": {
            "gridcolor": "white",
            "linecolor": "white",
            "ticks": ""
           }
          },
          "scene": {
           "xaxis": {
            "backgroundcolor": "#E5ECF6",
            "gridcolor": "white",
            "gridwidth": 2,
            "linecolor": "white",
            "showbackground": true,
            "ticks": "",
            "zerolinecolor": "white"
           },
           "yaxis": {
            "backgroundcolor": "#E5ECF6",
            "gridcolor": "white",
            "gridwidth": 2,
            "linecolor": "white",
            "showbackground": true,
            "ticks": "",
            "zerolinecolor": "white"
           },
           "zaxis": {
            "backgroundcolor": "#E5ECF6",
            "gridcolor": "white",
            "gridwidth": 2,
            "linecolor": "white",
            "showbackground": true,
            "ticks": "",
            "zerolinecolor": "white"
           }
          },
          "shapedefaults": {
           "line": {
            "color": "#2a3f5f"
           }
          },
          "ternary": {
           "aaxis": {
            "gridcolor": "white",
            "linecolor": "white",
            "ticks": ""
           },
           "baxis": {
            "gridcolor": "white",
            "linecolor": "white",
            "ticks": ""
           },
           "bgcolor": "#E5ECF6",
           "caxis": {
            "gridcolor": "white",
            "linecolor": "white",
            "ticks": ""
           }
          },
          "title": {
           "x": 0.05
          },
          "xaxis": {
           "automargin": true,
           "gridcolor": "white",
           "linecolor": "white",
           "ticks": "",
           "title": {
            "standoff": 15
           },
           "zerolinecolor": "white",
           "zerolinewidth": 2
          },
          "yaxis": {
           "automargin": true,
           "gridcolor": "white",
           "linecolor": "white",
           "ticks": "",
           "title": {
            "standoff": 15
           },
           "zerolinecolor": "white",
           "zerolinewidth": 2
          }
         }
        },
        "xaxis": {
         "anchor": "y",
         "domain": [
          0,
          1
         ],
         "title": {
          "text": "Total Comments"
         }
        },
        "yaxis": {
         "anchor": "x",
         "domain": [
          0,
          1
         ],
         "title": {
          "text": "Total Likes"
         }
        }
       }
      }
     },
     "metadata": {},
     "output_type": "display_data"
    }
   ],
   "source": [
    "fig = px.scatter(music_data, x = \"Total Comments\", y=\"Total Likes\", size = music_data[\"Duration (in minutes)\"],\n",
    " color = \"Channel Name\")\n",
    "fig.show()"
   ]
  },
  {
   "cell_type": "code",
   "execution_count": 282,
   "id": "60ea6d71",
   "metadata": {},
   "outputs": [
    {
     "data": {
      "application/vnd.plotly.v1+json": {
       "config": {
        "plotlyServerURL": "https://plot.ly"
       },
       "data": [
        {
         "hovertemplate": "Channel Name=edureka!<br>Release Date (Day-Month-Year)=%{x}<br>Total Views=%{y}<br>Duration (in minutes)=%{marker.size}<extra></extra>",
         "legendgroup": "edureka!",
         "marker": {
          "color": "#1F77B4",
          "size": [
           91.52,
           51.55,
           19.82,
           20.05,
           22.43,
           32.9,
           18.38
          ],
          "sizemode": "area",
          "sizeref": 1.78755,
          "symbol": "circle"
         },
         "mode": "markers",
         "name": "edureka!",
         "orientation": "v",
         "showlegend": true,
         "type": "scatter",
         "x": [
          "09-10-2019",
          "07-05-2019",
          "11-09-2019",
          "27-08-2020",
          "15-05-2019",
          "09-11-2017",
          "31-01-2019"
         ],
         "xaxis": "x",
         "y": [
          842649,
          174320,
          76165,
          9422,
          72792,
          268005,
          1026967
         ],
         "yaxis": "y"
        },
        {
         "hovertemplate": "Channel Name=Simplilearn<br>Release Date (Day-Month-Year)=%{x}<br>Total Views=%{y}<br>Duration (in minutes)=%{marker.size}<extra></extra>",
         "legendgroup": "Simplilearn",
         "marker": {
          "color": "#FF7F0E",
          "size": [
           494.33,
           579.48,
           147.02,
           576.45,
           8.52,
           574.93,
           433.62,
           13.03
          ],
          "sizemode": "area",
          "sizeref": 1.78755,
          "symbol": "circle"
         },
         "mode": "markers",
         "name": "Simplilearn",
         "orientation": "v",
         "showlegend": true,
         "type": "scatter",
         "x": [
          "25-03-2021",
          "30-01-2022",
          "18-03-2021",
          "04-09-2021",
          "21-01-2021",
          "21-07-2021",
          "24-06-2021",
          "22-09-2020"
         ],
         "xaxis": "x",
         "y": [
          56051,
          45930,
          52300,
          31432,
          8720,
          23377,
          42493,
          12397
         ],
         "yaxis": "y"
        },
        {
         "hovertemplate": "Channel Name=CS50<br>Release Date (Day-Month-Year)=%{x}<br>Total Views=%{y}<br>Duration (in minutes)=%{marker.size}<extra></extra>",
         "legendgroup": "CS50",
         "marker": {
          "color": "#2CA02C",
          "size": [
           175.02
          ],
          "sizemode": "area",
          "sizeref": 1.78755,
          "symbol": "circle"
         },
         "mode": "markers",
         "name": "CS50",
         "orientation": "v",
         "showlegend": true,
         "type": "scatter",
         "x": [
          "13-10-2021"
         ],
         "xaxis": "x",
         "y": [
          95712
         ],
         "yaxis": "y"
        },
        {
         "hovertemplate": "Channel Name=Intellipaat<br>Release Date (Day-Month-Year)=%{x}<br>Total Views=%{y}<br>Duration (in minutes)=%{marker.size}<extra></extra>",
         "legendgroup": "Intellipaat",
         "marker": {
          "color": "#D62728",
          "size": [
           32.33,
           15.5,
           417.48
          ],
          "sizemode": "area",
          "sizeref": 1.78755,
          "symbol": "circle"
         },
         "mode": "markers",
         "name": "Intellipaat",
         "orientation": "v",
         "showlegend": true,
         "type": "scatter",
         "x": [
          "13-10-2020",
          "26-04-2021",
          "07-01-2021"
         ],
         "xaxis": "x",
         "y": [
          8273,
          22193,
          21183
         ],
         "yaxis": "y"
        },
        {
         "hovertemplate": "Channel Name=Tech With Tim<br>Release Date (Day-Month-Year)=%{x}<br>Total Views=%{y}<br>Duration (in minutes)=%{marker.size}<extra></extra>",
         "legendgroup": "Tech With Tim",
         "marker": {
          "color": "#9467BD",
          "size": [
           269.67,
           715.02
          ],
          "sizemode": "area",
          "sizeref": 1.78755,
          "symbol": "circle"
         },
         "mode": "markers",
         "name": "Tech With Tim",
         "orientation": "v",
         "showlegend": true,
         "type": "scatter",
         "x": [
          "04-02-2020",
          "18-10-2019"
         ],
         "xaxis": "x",
         "y": [
          479966,
          7969709
         ],
         "yaxis": "y"
        },
        {
         "hovertemplate": "Channel Name=Manocha Academy<br>Release Date (Day-Month-Year)=%{x}<br>Total Views=%{y}<br>Duration (in minutes)=%{marker.size}<extra></extra>",
         "legendgroup": "Manocha Academy",
         "marker": {
          "color": "#8C564B",
          "size": [
           72.35
          ],
          "sizemode": "area",
          "sizeref": 1.78755,
          "symbol": "circle"
         },
         "mode": "markers",
         "name": "Manocha Academy",
         "orientation": "v",
         "showlegend": true,
         "type": "scatter",
         "x": [
          "25-05-2021"
         ],
         "xaxis": "x",
         "y": [
          65656
         ],
         "yaxis": "y"
        },
        {
         "hovertemplate": "Channel Name=Unreal Engine<br>Release Date (Day-Month-Year)=%{x}<br>Total Views=%{y}<br>Duration (in minutes)=%{marker.size}<extra></extra>",
         "legendgroup": "Unreal Engine",
         "marker": {
          "color": "#E377C2",
          "size": [
           103.93
          ],
          "sizemode": "area",
          "sizeref": 1.78755,
          "symbol": "circle"
         },
         "mode": "markers",
         "name": "Unreal Engine",
         "orientation": "v",
         "showlegend": true,
         "type": "scatter",
         "x": [
          "30-05-2019"
         ],
         "xaxis": "x",
         "y": [
          77557
         ],
         "yaxis": "y"
        },
        {
         "hovertemplate": "Channel Name=London App Developer<br>Release Date (Day-Month-Year)=%{x}<br>Total Views=%{y}<br>Duration (in minutes)=%{marker.size}<extra></extra>",
         "legendgroup": "London App Developer",
         "marker": {
          "color": "#7F7F7F",
          "size": [
           15.32
          ],
          "sizemode": "area",
          "sizeref": 1.78755,
          "symbol": "circle"
         },
         "mode": "markers",
         "name": "London App Developer",
         "orientation": "v",
         "showlegend": true,
         "type": "scatter",
         "x": [
          "02-09-2017"
         ],
         "xaxis": "x",
         "y": [
          67161
         ],
         "yaxis": "y"
        },
        {
         "hovertemplate": "Channel Name=freeCodeCamp.org<br>Release Date (Day-Month-Year)=%{x}<br>Total Views=%{y}<br>Duration (in minutes)=%{marker.size}<extra></extra>",
         "legendgroup": "freeCodeCamp.org",
         "marker": {
          "color": "#BCBD22",
          "size": [
           119.28
          ],
          "sizemode": "area",
          "sizeref": 1.78755,
          "symbol": "circle"
         },
         "mode": "markers",
         "name": "freeCodeCamp.org",
         "orientation": "v",
         "showlegend": true,
         "type": "scatter",
         "x": [
          "07-07-2020"
         ],
         "xaxis": "x",
         "y": [
          191132
         ],
         "yaxis": "y"
        },
        {
         "hovertemplate": "Channel Name=Cyber Insecurity<br>Release Date (Day-Month-Year)=%{x}<br>Total Views=%{y}<br>Duration (in minutes)=%{marker.size}<extra></extra>",
         "legendgroup": "Cyber Insecurity",
         "marker": {
          "color": "#17BECF",
          "size": [
           70.27
          ],
          "sizemode": "area",
          "sizeref": 1.78755,
          "symbol": "circle"
         },
         "mode": "markers",
         "name": "Cyber Insecurity",
         "orientation": "v",
         "showlegend": true,
         "type": "scatter",
         "x": [
          "26-01-2022"
         ],
         "xaxis": "x",
         "y": [
          5380
         ],
         "yaxis": "y"
        },
        {
         "hovertemplate": "Channel Name=Talk Python<br>Release Date (Day-Month-Year)=%{x}<br>Total Views=%{y}<br>Duration (in minutes)=%{marker.size}<extra></extra>",
         "legendgroup": "Talk Python",
         "marker": {
          "color": "#1F77B4",
          "size": [
           69.45
          ],
          "sizemode": "area",
          "sizeref": 1.78755,
          "symbol": "circle"
         },
         "mode": "markers",
         "name": "Talk Python",
         "orientation": "v",
         "showlegend": true,
         "type": "scatter",
         "x": [
          "02-11-2021"
         ],
         "xaxis": "x",
         "y": [
          5551
         ],
         "yaxis": "y"
        },
        {
         "hovertemplate": "Channel Name=DigitalOcean<br>Release Date (Day-Month-Year)=%{x}<br>Total Views=%{y}<br>Duration (in minutes)=%{marker.size}<extra></extra>",
         "legendgroup": "DigitalOcean",
         "marker": {
          "color": "#FF7F0E",
          "size": [
           66.73
          ],
          "sizemode": "area",
          "sizeref": 1.78755,
          "symbol": "circle"
         },
         "mode": "markers",
         "name": "DigitalOcean",
         "orientation": "v",
         "showlegend": true,
         "type": "scatter",
         "x": [
          "26-05-2021"
         ],
         "xaxis": "x",
         "y": [
          7355
         ],
         "yaxis": "y"
        },
        {
         "hovertemplate": "Channel Name=Visual Studio Code<br>Release Date (Day-Month-Year)=%{x}<br>Total Views=%{y}<br>Duration (in minutes)=%{marker.size}<extra></extra>",
         "legendgroup": "Visual Studio Code",
         "marker": {
          "color": "#2CA02C",
          "size": [
           29.8
          ],
          "sizemode": "area",
          "sizeref": 1.78755,
          "symbol": "circle"
         },
         "mode": "markers",
         "name": "Visual Studio Code",
         "orientation": "v",
         "showlegend": true,
         "type": "scatter",
         "x": [
          "12-11-2021"
         ],
         "xaxis": "x",
         "y": [
          39350
         ],
         "yaxis": "y"
        }
       ],
       "layout": {
        "legend": {
         "itemsizing": "constant",
         "title": {
          "text": "Channel Name"
         },
         "tracegroupgap": 0
        },
        "margin": {
         "t": 60
        },
        "template": {
         "data": {
          "bar": [
           {
            "error_x": {
             "color": "rgb(36,36,36)"
            },
            "error_y": {
             "color": "rgb(36,36,36)"
            },
            "marker": {
             "line": {
              "color": "white",
              "width": 0.5
             },
             "pattern": {
              "fillmode": "overlay",
              "size": 10,
              "solidity": 0.2
             }
            },
            "type": "bar"
           }
          ],
          "barpolar": [
           {
            "marker": {
             "line": {
              "color": "white",
              "width": 0.5
             },
             "pattern": {
              "fillmode": "overlay",
              "size": 10,
              "solidity": 0.2
             }
            },
            "type": "barpolar"
           }
          ],
          "carpet": [
           {
            "aaxis": {
             "endlinecolor": "rgb(36,36,36)",
             "gridcolor": "white",
             "linecolor": "white",
             "minorgridcolor": "white",
             "startlinecolor": "rgb(36,36,36)"
            },
            "baxis": {
             "endlinecolor": "rgb(36,36,36)",
             "gridcolor": "white",
             "linecolor": "white",
             "minorgridcolor": "white",
             "startlinecolor": "rgb(36,36,36)"
            },
            "type": "carpet"
           }
          ],
          "choropleth": [
           {
            "colorbar": {
             "outlinewidth": 1,
             "tickcolor": "rgb(36,36,36)",
             "ticks": "outside"
            },
            "type": "choropleth"
           }
          ],
          "contour": [
           {
            "colorbar": {
             "outlinewidth": 1,
             "tickcolor": "rgb(36,36,36)",
             "ticks": "outside"
            },
            "colorscale": [
             [
              0,
              "#440154"
             ],
             [
              0.1111111111111111,
              "#482878"
             ],
             [
              0.2222222222222222,
              "#3e4989"
             ],
             [
              0.3333333333333333,
              "#31688e"
             ],
             [
              0.4444444444444444,
              "#26828e"
             ],
             [
              0.5555555555555556,
              "#1f9e89"
             ],
             [
              0.6666666666666666,
              "#35b779"
             ],
             [
              0.7777777777777778,
              "#6ece58"
             ],
             [
              0.8888888888888888,
              "#b5de2b"
             ],
             [
              1,
              "#fde725"
             ]
            ],
            "type": "contour"
           }
          ],
          "contourcarpet": [
           {
            "colorbar": {
             "outlinewidth": 1,
             "tickcolor": "rgb(36,36,36)",
             "ticks": "outside"
            },
            "type": "contourcarpet"
           }
          ],
          "heatmap": [
           {
            "colorbar": {
             "outlinewidth": 1,
             "tickcolor": "rgb(36,36,36)",
             "ticks": "outside"
            },
            "colorscale": [
             [
              0,
              "#440154"
             ],
             [
              0.1111111111111111,
              "#482878"
             ],
             [
              0.2222222222222222,
              "#3e4989"
             ],
             [
              0.3333333333333333,
              "#31688e"
             ],
             [
              0.4444444444444444,
              "#26828e"
             ],
             [
              0.5555555555555556,
              "#1f9e89"
             ],
             [
              0.6666666666666666,
              "#35b779"
             ],
             [
              0.7777777777777778,
              "#6ece58"
             ],
             [
              0.8888888888888888,
              "#b5de2b"
             ],
             [
              1,
              "#fde725"
             ]
            ],
            "type": "heatmap"
           }
          ],
          "heatmapgl": [
           {
            "colorbar": {
             "outlinewidth": 1,
             "tickcolor": "rgb(36,36,36)",
             "ticks": "outside"
            },
            "colorscale": [
             [
              0,
              "#440154"
             ],
             [
              0.1111111111111111,
              "#482878"
             ],
             [
              0.2222222222222222,
              "#3e4989"
             ],
             [
              0.3333333333333333,
              "#31688e"
             ],
             [
              0.4444444444444444,
              "#26828e"
             ],
             [
              0.5555555555555556,
              "#1f9e89"
             ],
             [
              0.6666666666666666,
              "#35b779"
             ],
             [
              0.7777777777777778,
              "#6ece58"
             ],
             [
              0.8888888888888888,
              "#b5de2b"
             ],
             [
              1,
              "#fde725"
             ]
            ],
            "type": "heatmapgl"
           }
          ],
          "histogram": [
           {
            "marker": {
             "line": {
              "color": "white",
              "width": 0.6
             }
            },
            "type": "histogram"
           }
          ],
          "histogram2d": [
           {
            "colorbar": {
             "outlinewidth": 1,
             "tickcolor": "rgb(36,36,36)",
             "ticks": "outside"
            },
            "colorscale": [
             [
              0,
              "#440154"
             ],
             [
              0.1111111111111111,
              "#482878"
             ],
             [
              0.2222222222222222,
              "#3e4989"
             ],
             [
              0.3333333333333333,
              "#31688e"
             ],
             [
              0.4444444444444444,
              "#26828e"
             ],
             [
              0.5555555555555556,
              "#1f9e89"
             ],
             [
              0.6666666666666666,
              "#35b779"
             ],
             [
              0.7777777777777778,
              "#6ece58"
             ],
             [
              0.8888888888888888,
              "#b5de2b"
             ],
             [
              1,
              "#fde725"
             ]
            ],
            "type": "histogram2d"
           }
          ],
          "histogram2dcontour": [
           {
            "colorbar": {
             "outlinewidth": 1,
             "tickcolor": "rgb(36,36,36)",
             "ticks": "outside"
            },
            "colorscale": [
             [
              0,
              "#440154"
             ],
             [
              0.1111111111111111,
              "#482878"
             ],
             [
              0.2222222222222222,
              "#3e4989"
             ],
             [
              0.3333333333333333,
              "#31688e"
             ],
             [
              0.4444444444444444,
              "#26828e"
             ],
             [
              0.5555555555555556,
              "#1f9e89"
             ],
             [
              0.6666666666666666,
              "#35b779"
             ],
             [
              0.7777777777777778,
              "#6ece58"
             ],
             [
              0.8888888888888888,
              "#b5de2b"
             ],
             [
              1,
              "#fde725"
             ]
            ],
            "type": "histogram2dcontour"
           }
          ],
          "mesh3d": [
           {
            "colorbar": {
             "outlinewidth": 1,
             "tickcolor": "rgb(36,36,36)",
             "ticks": "outside"
            },
            "type": "mesh3d"
           }
          ],
          "parcoords": [
           {
            "line": {
             "colorbar": {
              "outlinewidth": 1,
              "tickcolor": "rgb(36,36,36)",
              "ticks": "outside"
             }
            },
            "type": "parcoords"
           }
          ],
          "pie": [
           {
            "automargin": true,
            "type": "pie"
           }
          ],
          "scatter": [
           {
            "marker": {
             "colorbar": {
              "outlinewidth": 1,
              "tickcolor": "rgb(36,36,36)",
              "ticks": "outside"
             }
            },
            "type": "scatter"
           }
          ],
          "scatter3d": [
           {
            "line": {
             "colorbar": {
              "outlinewidth": 1,
              "tickcolor": "rgb(36,36,36)",
              "ticks": "outside"
             }
            },
            "marker": {
             "colorbar": {
              "outlinewidth": 1,
              "tickcolor": "rgb(36,36,36)",
              "ticks": "outside"
             }
            },
            "type": "scatter3d"
           }
          ],
          "scattercarpet": [
           {
            "marker": {
             "colorbar": {
              "outlinewidth": 1,
              "tickcolor": "rgb(36,36,36)",
              "ticks": "outside"
             }
            },
            "type": "scattercarpet"
           }
          ],
          "scattergeo": [
           {
            "marker": {
             "colorbar": {
              "outlinewidth": 1,
              "tickcolor": "rgb(36,36,36)",
              "ticks": "outside"
             }
            },
            "type": "scattergeo"
           }
          ],
          "scattergl": [
           {
            "marker": {
             "colorbar": {
              "outlinewidth": 1,
              "tickcolor": "rgb(36,36,36)",
              "ticks": "outside"
             }
            },
            "type": "scattergl"
           }
          ],
          "scattermapbox": [
           {
            "marker": {
             "colorbar": {
              "outlinewidth": 1,
              "tickcolor": "rgb(36,36,36)",
              "ticks": "outside"
             }
            },
            "type": "scattermapbox"
           }
          ],
          "scatterpolar": [
           {
            "marker": {
             "colorbar": {
              "outlinewidth": 1,
              "tickcolor": "rgb(36,36,36)",
              "ticks": "outside"
             }
            },
            "type": "scatterpolar"
           }
          ],
          "scatterpolargl": [
           {
            "marker": {
             "colorbar": {
              "outlinewidth": 1,
              "tickcolor": "rgb(36,36,36)",
              "ticks": "outside"
             }
            },
            "type": "scatterpolargl"
           }
          ],
          "scatterternary": [
           {
            "marker": {
             "colorbar": {
              "outlinewidth": 1,
              "tickcolor": "rgb(36,36,36)",
              "ticks": "outside"
             }
            },
            "type": "scatterternary"
           }
          ],
          "surface": [
           {
            "colorbar": {
             "outlinewidth": 1,
             "tickcolor": "rgb(36,36,36)",
             "ticks": "outside"
            },
            "colorscale": [
             [
              0,
              "#440154"
             ],
             [
              0.1111111111111111,
              "#482878"
             ],
             [
              0.2222222222222222,
              "#3e4989"
             ],
             [
              0.3333333333333333,
              "#31688e"
             ],
             [
              0.4444444444444444,
              "#26828e"
             ],
             [
              0.5555555555555556,
              "#1f9e89"
             ],
             [
              0.6666666666666666,
              "#35b779"
             ],
             [
              0.7777777777777778,
              "#6ece58"
             ],
             [
              0.8888888888888888,
              "#b5de2b"
             ],
             [
              1,
              "#fde725"
             ]
            ],
            "type": "surface"
           }
          ],
          "table": [
           {
            "cells": {
             "fill": {
              "color": "rgb(237,237,237)"
             },
             "line": {
              "color": "white"
             }
            },
            "header": {
             "fill": {
              "color": "rgb(217,217,217)"
             },
             "line": {
              "color": "white"
             }
            },
            "type": "table"
           }
          ]
         },
         "layout": {
          "annotationdefaults": {
           "arrowhead": 0,
           "arrowwidth": 1
          },
          "autotypenumbers": "strict",
          "coloraxis": {
           "colorbar": {
            "outlinewidth": 1,
            "tickcolor": "rgb(36,36,36)",
            "ticks": "outside"
           }
          },
          "colorscale": {
           "diverging": [
            [
             0,
             "rgb(103,0,31)"
            ],
            [
             0.1,
             "rgb(178,24,43)"
            ],
            [
             0.2,
             "rgb(214,96,77)"
            ],
            [
             0.3,
             "rgb(244,165,130)"
            ],
            [
             0.4,
             "rgb(253,219,199)"
            ],
            [
             0.5,
             "rgb(247,247,247)"
            ],
            [
             0.6,
             "rgb(209,229,240)"
            ],
            [
             0.7,
             "rgb(146,197,222)"
            ],
            [
             0.8,
             "rgb(67,147,195)"
            ],
            [
             0.9,
             "rgb(33,102,172)"
            ],
            [
             1,
             "rgb(5,48,97)"
            ]
           ],
           "sequential": [
            [
             0,
             "#440154"
            ],
            [
             0.1111111111111111,
             "#482878"
            ],
            [
             0.2222222222222222,
             "#3e4989"
            ],
            [
             0.3333333333333333,
             "#31688e"
            ],
            [
             0.4444444444444444,
             "#26828e"
            ],
            [
             0.5555555555555556,
             "#1f9e89"
            ],
            [
             0.6666666666666666,
             "#35b779"
            ],
            [
             0.7777777777777778,
             "#6ece58"
            ],
            [
             0.8888888888888888,
             "#b5de2b"
            ],
            [
             1,
             "#fde725"
            ]
           ],
           "sequentialminus": [
            [
             0,
             "#440154"
            ],
            [
             0.1111111111111111,
             "#482878"
            ],
            [
             0.2222222222222222,
             "#3e4989"
            ],
            [
             0.3333333333333333,
             "#31688e"
            ],
            [
             0.4444444444444444,
             "#26828e"
            ],
            [
             0.5555555555555556,
             "#1f9e89"
            ],
            [
             0.6666666666666666,
             "#35b779"
            ],
            [
             0.7777777777777778,
             "#6ece58"
            ],
            [
             0.8888888888888888,
             "#b5de2b"
            ],
            [
             1,
             "#fde725"
            ]
           ]
          },
          "colorway": [
           "#1F77B4",
           "#FF7F0E",
           "#2CA02C",
           "#D62728",
           "#9467BD",
           "#8C564B",
           "#E377C2",
           "#7F7F7F",
           "#BCBD22",
           "#17BECF"
          ],
          "font": {
           "color": "rgb(36,36,36)"
          },
          "geo": {
           "bgcolor": "white",
           "lakecolor": "white",
           "landcolor": "white",
           "showlakes": true,
           "showland": true,
           "subunitcolor": "white"
          },
          "hoverlabel": {
           "align": "left"
          },
          "hovermode": "closest",
          "mapbox": {
           "style": "light"
          },
          "paper_bgcolor": "white",
          "plot_bgcolor": "white",
          "polar": {
           "angularaxis": {
            "gridcolor": "rgb(232,232,232)",
            "linecolor": "rgb(36,36,36)",
            "showgrid": false,
            "showline": true,
            "ticks": "outside"
           },
           "bgcolor": "white",
           "radialaxis": {
            "gridcolor": "rgb(232,232,232)",
            "linecolor": "rgb(36,36,36)",
            "showgrid": false,
            "showline": true,
            "ticks": "outside"
           }
          },
          "scene": {
           "xaxis": {
            "backgroundcolor": "white",
            "gridcolor": "rgb(232,232,232)",
            "gridwidth": 2,
            "linecolor": "rgb(36,36,36)",
            "showbackground": true,
            "showgrid": false,
            "showline": true,
            "ticks": "outside",
            "zeroline": false,
            "zerolinecolor": "rgb(36,36,36)"
           },
           "yaxis": {
            "backgroundcolor": "white",
            "gridcolor": "rgb(232,232,232)",
            "gridwidth": 2,
            "linecolor": "rgb(36,36,36)",
            "showbackground": true,
            "showgrid": false,
            "showline": true,
            "ticks": "outside",
            "zeroline": false,
            "zerolinecolor": "rgb(36,36,36)"
           },
           "zaxis": {
            "backgroundcolor": "white",
            "gridcolor": "rgb(232,232,232)",
            "gridwidth": 2,
            "linecolor": "rgb(36,36,36)",
            "showbackground": true,
            "showgrid": false,
            "showline": true,
            "ticks": "outside",
            "zeroline": false,
            "zerolinecolor": "rgb(36,36,36)"
           }
          },
          "shapedefaults": {
           "fillcolor": "black",
           "line": {
            "width": 0
           },
           "opacity": 0.3
          },
          "ternary": {
           "aaxis": {
            "gridcolor": "rgb(232,232,232)",
            "linecolor": "rgb(36,36,36)",
            "showgrid": false,
            "showline": true,
            "ticks": "outside"
           },
           "baxis": {
            "gridcolor": "rgb(232,232,232)",
            "linecolor": "rgb(36,36,36)",
            "showgrid": false,
            "showline": true,
            "ticks": "outside"
           },
           "bgcolor": "white",
           "caxis": {
            "gridcolor": "rgb(232,232,232)",
            "linecolor": "rgb(36,36,36)",
            "showgrid": false,
            "showline": true,
            "ticks": "outside"
           }
          },
          "title": {
           "x": 0.05
          },
          "xaxis": {
           "automargin": true,
           "gridcolor": "rgb(232,232,232)",
           "linecolor": "rgb(36,36,36)",
           "showgrid": false,
           "showline": true,
           "ticks": "outside",
           "title": {
            "standoff": 15
           },
           "zeroline": false,
           "zerolinecolor": "rgb(36,36,36)"
          },
          "yaxis": {
           "automargin": true,
           "gridcolor": "rgb(232,232,232)",
           "linecolor": "rgb(36,36,36)",
           "showgrid": false,
           "showline": true,
           "ticks": "outside",
           "title": {
            "standoff": 15
           },
           "zeroline": false,
           "zerolinecolor": "rgb(36,36,36)"
          }
         }
        },
        "xaxis": {
         "anchor": "y",
         "domain": [
          0,
          1
         ],
         "title": {
          "text": "Release Date (Day-Month-Year)"
         }
        },
        "yaxis": {
         "anchor": "x",
         "domain": [
          0,
          1
         ],
         "title": {
          "text": "Total Views"
         }
        }
       }
      }
     },
     "metadata": {},
     "output_type": "display_data"
    }
   ],
   "source": [
    "fig = px.scatter(music_data, x = \"Release Date (Day-Month-Year)\", y=\"Total Views\", size = music_data[\"Duration (in minutes)\"],\n",
    " color = \"Channel Name\", template = 'simple_white')#'plotly_dark)\n",
    "fig.show()"
   ]
  },
  {
   "cell_type": "code",
   "execution_count": 303,
   "id": "5c97d794",
   "metadata": {},
   "outputs": [
    {
     "data": {
      "application/vnd.plotly.v1+json": {
       "config": {
        "plotlyServerURL": "https://plot.ly"
       },
       "data": [
        {
         "alignmentgroup": "True",
         "bingroup": "x",
         "hovertemplate": "x=%{x}<br>count=%{y}<extra></extra>",
         "legendgroup": "",
         "marker": {
          "color": "#316395",
          "opacity": 0.8,
          "pattern": {
           "shape": ""
          }
         },
         "name": "",
         "offsetgroup": "",
         "orientation": "v",
         "showlegend": false,
         "texttemplate": "%{value}",
         "type": "histogram",
         "x": [
          9.63795828472548,
          7.578656850594762,
          7.466799475018602,
          7.88344635413774,
          7.838737559599282,
          5.459585514144159,
          7.195937226475569,
          7.229113877793302,
          9.327234123447681,
          5.929589143389895,
          6.7357800142423265,
          8.204124932574041,
          7.0317412587631285,
          6.645090969505644,
          8.326274787396764,
          6.761572768804055,
          5.902633333401366,
          12.005925146510224,
          6.93828448401696,
          5.545177444479562,
          5.337538079701318,
          7.260522598089852,
          7.116394144093465,
          5.017279836814924,
          8.105005537547246,
          6.315358001522335,
          6.522092798170152,
          9.969649754789797,
          5.697093486505405
         ],
         "xaxis": "x",
         "yaxis": "y"
        },
        {
         "alignmentgroup": "True",
         "hovertemplate": "x=%{x}<extra></extra>",
         "legendgroup": "",
         "marker": {
          "color": "#316395"
         },
         "name": "",
         "notched": true,
         "offsetgroup": "",
         "showlegend": false,
         "type": "box",
         "x": [
          9.63795828472548,
          7.578656850594762,
          7.466799475018602,
          7.88344635413774,
          7.838737559599282,
          5.459585514144159,
          7.195937226475569,
          7.229113877793302,
          9.327234123447681,
          5.929589143389895,
          6.7357800142423265,
          8.204124932574041,
          7.0317412587631285,
          6.645090969505644,
          8.326274787396764,
          6.761572768804055,
          5.902633333401366,
          12.005925146510224,
          6.93828448401696,
          5.545177444479562,
          5.337538079701318,
          7.260522598089852,
          7.116394144093465,
          5.017279836814924,
          8.105005537547246,
          6.315358001522335,
          6.522092798170152,
          9.969649754789797,
          5.697093486505405
         ],
         "xaxis": "x2",
         "yaxis": "y2"
        }
       ],
       "layout": {
        "bargap": 0.01,
        "barmode": "relative",
        "hoverlabel": {
         "bgcolor": "white",
         "font": {
          "family": "Rockwell",
          "size": 20
         }
        },
        "legend": {
         "tracegroupgap": 0
        },
        "margin": {
         "t": 60
        },
        "template": {
         "data": {
          "bar": [
           {
            "error_x": {
             "color": "rgb(36,36,36)"
            },
            "error_y": {
             "color": "rgb(36,36,36)"
            },
            "marker": {
             "line": {
              "color": "white",
              "width": 0.5
             },
             "pattern": {
              "fillmode": "overlay",
              "size": 10,
              "solidity": 0.2
             }
            },
            "type": "bar"
           }
          ],
          "barpolar": [
           {
            "marker": {
             "line": {
              "color": "white",
              "width": 0.5
             },
             "pattern": {
              "fillmode": "overlay",
              "size": 10,
              "solidity": 0.2
             }
            },
            "type": "barpolar"
           }
          ],
          "carpet": [
           {
            "aaxis": {
             "endlinecolor": "rgb(36,36,36)",
             "gridcolor": "white",
             "linecolor": "white",
             "minorgridcolor": "white",
             "startlinecolor": "rgb(36,36,36)"
            },
            "baxis": {
             "endlinecolor": "rgb(36,36,36)",
             "gridcolor": "white",
             "linecolor": "white",
             "minorgridcolor": "white",
             "startlinecolor": "rgb(36,36,36)"
            },
            "type": "carpet"
           }
          ],
          "choropleth": [
           {
            "colorbar": {
             "outlinewidth": 1,
             "tickcolor": "rgb(36,36,36)",
             "ticks": "outside"
            },
            "type": "choropleth"
           }
          ],
          "contour": [
           {
            "colorbar": {
             "outlinewidth": 1,
             "tickcolor": "rgb(36,36,36)",
             "ticks": "outside"
            },
            "colorscale": [
             [
              0,
              "#440154"
             ],
             [
              0.1111111111111111,
              "#482878"
             ],
             [
              0.2222222222222222,
              "#3e4989"
             ],
             [
              0.3333333333333333,
              "#31688e"
             ],
             [
              0.4444444444444444,
              "#26828e"
             ],
             [
              0.5555555555555556,
              "#1f9e89"
             ],
             [
              0.6666666666666666,
              "#35b779"
             ],
             [
              0.7777777777777778,
              "#6ece58"
             ],
             [
              0.8888888888888888,
              "#b5de2b"
             ],
             [
              1,
              "#fde725"
             ]
            ],
            "type": "contour"
           }
          ],
          "contourcarpet": [
           {
            "colorbar": {
             "outlinewidth": 1,
             "tickcolor": "rgb(36,36,36)",
             "ticks": "outside"
            },
            "type": "contourcarpet"
           }
          ],
          "heatmap": [
           {
            "colorbar": {
             "outlinewidth": 1,
             "tickcolor": "rgb(36,36,36)",
             "ticks": "outside"
            },
            "colorscale": [
             [
              0,
              "#440154"
             ],
             [
              0.1111111111111111,
              "#482878"
             ],
             [
              0.2222222222222222,
              "#3e4989"
             ],
             [
              0.3333333333333333,
              "#31688e"
             ],
             [
              0.4444444444444444,
              "#26828e"
             ],
             [
              0.5555555555555556,
              "#1f9e89"
             ],
             [
              0.6666666666666666,
              "#35b779"
             ],
             [
              0.7777777777777778,
              "#6ece58"
             ],
             [
              0.8888888888888888,
              "#b5de2b"
             ],
             [
              1,
              "#fde725"
             ]
            ],
            "type": "heatmap"
           }
          ],
          "heatmapgl": [
           {
            "colorbar": {
             "outlinewidth": 1,
             "tickcolor": "rgb(36,36,36)",
             "ticks": "outside"
            },
            "colorscale": [
             [
              0,
              "#440154"
             ],
             [
              0.1111111111111111,
              "#482878"
             ],
             [
              0.2222222222222222,
              "#3e4989"
             ],
             [
              0.3333333333333333,
              "#31688e"
             ],
             [
              0.4444444444444444,
              "#26828e"
             ],
             [
              0.5555555555555556,
              "#1f9e89"
             ],
             [
              0.6666666666666666,
              "#35b779"
             ],
             [
              0.7777777777777778,
              "#6ece58"
             ],
             [
              0.8888888888888888,
              "#b5de2b"
             ],
             [
              1,
              "#fde725"
             ]
            ],
            "type": "heatmapgl"
           }
          ],
          "histogram": [
           {
            "marker": {
             "line": {
              "color": "white",
              "width": 0.6
             }
            },
            "type": "histogram"
           }
          ],
          "histogram2d": [
           {
            "colorbar": {
             "outlinewidth": 1,
             "tickcolor": "rgb(36,36,36)",
             "ticks": "outside"
            },
            "colorscale": [
             [
              0,
              "#440154"
             ],
             [
              0.1111111111111111,
              "#482878"
             ],
             [
              0.2222222222222222,
              "#3e4989"
             ],
             [
              0.3333333333333333,
              "#31688e"
             ],
             [
              0.4444444444444444,
              "#26828e"
             ],
             [
              0.5555555555555556,
              "#1f9e89"
             ],
             [
              0.6666666666666666,
              "#35b779"
             ],
             [
              0.7777777777777778,
              "#6ece58"
             ],
             [
              0.8888888888888888,
              "#b5de2b"
             ],
             [
              1,
              "#fde725"
             ]
            ],
            "type": "histogram2d"
           }
          ],
          "histogram2dcontour": [
           {
            "colorbar": {
             "outlinewidth": 1,
             "tickcolor": "rgb(36,36,36)",
             "ticks": "outside"
            },
            "colorscale": [
             [
              0,
              "#440154"
             ],
             [
              0.1111111111111111,
              "#482878"
             ],
             [
              0.2222222222222222,
              "#3e4989"
             ],
             [
              0.3333333333333333,
              "#31688e"
             ],
             [
              0.4444444444444444,
              "#26828e"
             ],
             [
              0.5555555555555556,
              "#1f9e89"
             ],
             [
              0.6666666666666666,
              "#35b779"
             ],
             [
              0.7777777777777778,
              "#6ece58"
             ],
             [
              0.8888888888888888,
              "#b5de2b"
             ],
             [
              1,
              "#fde725"
             ]
            ],
            "type": "histogram2dcontour"
           }
          ],
          "mesh3d": [
           {
            "colorbar": {
             "outlinewidth": 1,
             "tickcolor": "rgb(36,36,36)",
             "ticks": "outside"
            },
            "type": "mesh3d"
           }
          ],
          "parcoords": [
           {
            "line": {
             "colorbar": {
              "outlinewidth": 1,
              "tickcolor": "rgb(36,36,36)",
              "ticks": "outside"
             }
            },
            "type": "parcoords"
           }
          ],
          "pie": [
           {
            "automargin": true,
            "type": "pie"
           }
          ],
          "scatter": [
           {
            "marker": {
             "colorbar": {
              "outlinewidth": 1,
              "tickcolor": "rgb(36,36,36)",
              "ticks": "outside"
             }
            },
            "type": "scatter"
           }
          ],
          "scatter3d": [
           {
            "line": {
             "colorbar": {
              "outlinewidth": 1,
              "tickcolor": "rgb(36,36,36)",
              "ticks": "outside"
             }
            },
            "marker": {
             "colorbar": {
              "outlinewidth": 1,
              "tickcolor": "rgb(36,36,36)",
              "ticks": "outside"
             }
            },
            "type": "scatter3d"
           }
          ],
          "scattercarpet": [
           {
            "marker": {
             "colorbar": {
              "outlinewidth": 1,
              "tickcolor": "rgb(36,36,36)",
              "ticks": "outside"
             }
            },
            "type": "scattercarpet"
           }
          ],
          "scattergeo": [
           {
            "marker": {
             "colorbar": {
              "outlinewidth": 1,
              "tickcolor": "rgb(36,36,36)",
              "ticks": "outside"
             }
            },
            "type": "scattergeo"
           }
          ],
          "scattergl": [
           {
            "marker": {
             "colorbar": {
              "outlinewidth": 1,
              "tickcolor": "rgb(36,36,36)",
              "ticks": "outside"
             }
            },
            "type": "scattergl"
           }
          ],
          "scattermapbox": [
           {
            "marker": {
             "colorbar": {
              "outlinewidth": 1,
              "tickcolor": "rgb(36,36,36)",
              "ticks": "outside"
             }
            },
            "type": "scattermapbox"
           }
          ],
          "scatterpolar": [
           {
            "marker": {
             "colorbar": {
              "outlinewidth": 1,
              "tickcolor": "rgb(36,36,36)",
              "ticks": "outside"
             }
            },
            "type": "scatterpolar"
           }
          ],
          "scatterpolargl": [
           {
            "marker": {
             "colorbar": {
              "outlinewidth": 1,
              "tickcolor": "rgb(36,36,36)",
              "ticks": "outside"
             }
            },
            "type": "scatterpolargl"
           }
          ],
          "scatterternary": [
           {
            "marker": {
             "colorbar": {
              "outlinewidth": 1,
              "tickcolor": "rgb(36,36,36)",
              "ticks": "outside"
             }
            },
            "type": "scatterternary"
           }
          ],
          "surface": [
           {
            "colorbar": {
             "outlinewidth": 1,
             "tickcolor": "rgb(36,36,36)",
             "ticks": "outside"
            },
            "colorscale": [
             [
              0,
              "#440154"
             ],
             [
              0.1111111111111111,
              "#482878"
             ],
             [
              0.2222222222222222,
              "#3e4989"
             ],
             [
              0.3333333333333333,
              "#31688e"
             ],
             [
              0.4444444444444444,
              "#26828e"
             ],
             [
              0.5555555555555556,
              "#1f9e89"
             ],
             [
              0.6666666666666666,
              "#35b779"
             ],
             [
              0.7777777777777778,
              "#6ece58"
             ],
             [
              0.8888888888888888,
              "#b5de2b"
             ],
             [
              1,
              "#fde725"
             ]
            ],
            "type": "surface"
           }
          ],
          "table": [
           {
            "cells": {
             "fill": {
              "color": "rgb(237,237,237)"
             },
             "line": {
              "color": "white"
             }
            },
            "header": {
             "fill": {
              "color": "rgb(217,217,217)"
             },
             "line": {
              "color": "white"
             }
            },
            "type": "table"
           }
          ]
         },
         "layout": {
          "annotationdefaults": {
           "arrowhead": 0,
           "arrowwidth": 1
          },
          "autotypenumbers": "strict",
          "coloraxis": {
           "colorbar": {
            "outlinewidth": 1,
            "tickcolor": "rgb(36,36,36)",
            "ticks": "outside"
           }
          },
          "colorscale": {
           "diverging": [
            [
             0,
             "rgb(103,0,31)"
            ],
            [
             0.1,
             "rgb(178,24,43)"
            ],
            [
             0.2,
             "rgb(214,96,77)"
            ],
            [
             0.3,
             "rgb(244,165,130)"
            ],
            [
             0.4,
             "rgb(253,219,199)"
            ],
            [
             0.5,
             "rgb(247,247,247)"
            ],
            [
             0.6,
             "rgb(209,229,240)"
            ],
            [
             0.7,
             "rgb(146,197,222)"
            ],
            [
             0.8,
             "rgb(67,147,195)"
            ],
            [
             0.9,
             "rgb(33,102,172)"
            ],
            [
             1,
             "rgb(5,48,97)"
            ]
           ],
           "sequential": [
            [
             0,
             "#440154"
            ],
            [
             0.1111111111111111,
             "#482878"
            ],
            [
             0.2222222222222222,
             "#3e4989"
            ],
            [
             0.3333333333333333,
             "#31688e"
            ],
            [
             0.4444444444444444,
             "#26828e"
            ],
            [
             0.5555555555555556,
             "#1f9e89"
            ],
            [
             0.6666666666666666,
             "#35b779"
            ],
            [
             0.7777777777777778,
             "#6ece58"
            ],
            [
             0.8888888888888888,
             "#b5de2b"
            ],
            [
             1,
             "#fde725"
            ]
           ],
           "sequentialminus": [
            [
             0,
             "#440154"
            ],
            [
             0.1111111111111111,
             "#482878"
            ],
            [
             0.2222222222222222,
             "#3e4989"
            ],
            [
             0.3333333333333333,
             "#31688e"
            ],
            [
             0.4444444444444444,
             "#26828e"
            ],
            [
             0.5555555555555556,
             "#1f9e89"
            ],
            [
             0.6666666666666666,
             "#35b779"
            ],
            [
             0.7777777777777778,
             "#6ece58"
            ],
            [
             0.8888888888888888,
             "#b5de2b"
            ],
            [
             1,
             "#fde725"
            ]
           ]
          },
          "colorway": [
           "#1F77B4",
           "#FF7F0E",
           "#2CA02C",
           "#D62728",
           "#9467BD",
           "#8C564B",
           "#E377C2",
           "#7F7F7F",
           "#BCBD22",
           "#17BECF"
          ],
          "font": {
           "color": "rgb(36,36,36)"
          },
          "geo": {
           "bgcolor": "white",
           "lakecolor": "white",
           "landcolor": "white",
           "showlakes": true,
           "showland": true,
           "subunitcolor": "white"
          },
          "hoverlabel": {
           "align": "left"
          },
          "hovermode": "closest",
          "mapbox": {
           "style": "light"
          },
          "paper_bgcolor": "white",
          "plot_bgcolor": "white",
          "polar": {
           "angularaxis": {
            "gridcolor": "rgb(232,232,232)",
            "linecolor": "rgb(36,36,36)",
            "showgrid": false,
            "showline": true,
            "ticks": "outside"
           },
           "bgcolor": "white",
           "radialaxis": {
            "gridcolor": "rgb(232,232,232)",
            "linecolor": "rgb(36,36,36)",
            "showgrid": false,
            "showline": true,
            "ticks": "outside"
           }
          },
          "scene": {
           "xaxis": {
            "backgroundcolor": "white",
            "gridcolor": "rgb(232,232,232)",
            "gridwidth": 2,
            "linecolor": "rgb(36,36,36)",
            "showbackground": true,
            "showgrid": false,
            "showline": true,
            "ticks": "outside",
            "zeroline": false,
            "zerolinecolor": "rgb(36,36,36)"
           },
           "yaxis": {
            "backgroundcolor": "white",
            "gridcolor": "rgb(232,232,232)",
            "gridwidth": 2,
            "linecolor": "rgb(36,36,36)",
            "showbackground": true,
            "showgrid": false,
            "showline": true,
            "ticks": "outside",
            "zeroline": false,
            "zerolinecolor": "rgb(36,36,36)"
           },
           "zaxis": {
            "backgroundcolor": "white",
            "gridcolor": "rgb(232,232,232)",
            "gridwidth": 2,
            "linecolor": "rgb(36,36,36)",
            "showbackground": true,
            "showgrid": false,
            "showline": true,
            "ticks": "outside",
            "zeroline": false,
            "zerolinecolor": "rgb(36,36,36)"
           }
          },
          "shapedefaults": {
           "fillcolor": "black",
           "line": {
            "width": 0
           },
           "opacity": 0.3
          },
          "ternary": {
           "aaxis": {
            "gridcolor": "rgb(232,232,232)",
            "linecolor": "rgb(36,36,36)",
            "showgrid": false,
            "showline": true,
            "ticks": "outside"
           },
           "baxis": {
            "gridcolor": "rgb(232,232,232)",
            "linecolor": "rgb(36,36,36)",
            "showgrid": false,
            "showline": true,
            "ticks": "outside"
           },
           "bgcolor": "white",
           "caxis": {
            "gridcolor": "rgb(232,232,232)",
            "linecolor": "rgb(36,36,36)",
            "showgrid": false,
            "showline": true,
            "ticks": "outside"
           }
          },
          "title": {
           "x": 0.05
          },
          "xaxis": {
           "automargin": true,
           "gridcolor": "rgb(232,232,232)",
           "linecolor": "rgb(36,36,36)",
           "showgrid": false,
           "showline": true,
           "ticks": "outside",
           "title": {
            "standoff": 15
           },
           "zeroline": false,
           "zerolinecolor": "rgb(36,36,36)"
          },
          "yaxis": {
           "automargin": true,
           "gridcolor": "rgb(232,232,232)",
           "linecolor": "rgb(36,36,36)",
           "showgrid": false,
           "showline": true,
           "ticks": "outside",
           "title": {
            "standoff": 15
           },
           "zeroline": false,
           "zerolinecolor": "rgb(36,36,36)"
          }
         }
        },
        "title": {
         "text": "Sampled Results"
        },
        "xaxis": {
         "anchor": "y",
         "domain": [
          0,
          1
         ],
         "title": {
          "text": "x"
         }
        },
        "xaxis2": {
         "anchor": "y2",
         "domain": [
          0,
          1
         ],
         "matches": "x",
         "showticklabels": false
        },
        "yaxis": {
         "anchor": "x",
         "domain": [
          0,
          0.8316
         ],
         "title": {
          "text": "Count"
         }
        },
        "yaxis2": {
         "anchor": "x2",
         "domain": [
          0.8416,
          1
         ],
         "matches": "y2",
         "showline": false,
         "showticklabels": false,
         "ticks": ""
        }
       }
      }
     },
     "metadata": {},
     "output_type": "display_data"
    }
   ],
   "source": [
    "fig = px.histogram(music_data, x= np.log(music_data[\"Total Likes\"]), text_auto=True, opacity=0.8, marginal=\"box\", template = 'simple_white',\n",
    "color_discrete_sequence = ['#316395'])\n",
    "                   #log_y=True, marginal=\"rug\")\n",
    "\n",
    "fig.update_layout(\n",
    "    title_text='Sampled Results', # title of plot\n",
    "   # xaxis_title_text='Value', # xaxis label\n",
    "    yaxis_title_text='Count', # yaxis label\n",
    "    bargap=0.01, # gap between bars of adjacent location coordinates\n",
    "    #bargroupgap=0.1 # gap between bars of the same location coordinates\n",
    "    hoverlabel=dict(\n",
    "        bgcolor=\"white\",\n",
    "        font_size=20,\n",
    "        font_family=\"Rockwell\"\n",
    "    )\n",
    ")\n",
    "\n",
    "\n",
    "fig.show()"
   ]
  },
  {
   "cell_type": "markdown",
   "id": "73569b22",
   "metadata": {},
   "source": [
    "# Most Liked Video"
   ]
  },
  {
   "cell_type": "code",
   "execution_count": 279,
   "id": "c70cdaed",
   "metadata": {},
   "outputs": [
    {
     "data": {
      "text/plain": [
       "17"
      ]
     },
     "execution_count": 279,
     "metadata": {},
     "output_type": "execute_result"
    }
   ],
   "source": [
    "music_data[\"Total Likes\"].idxmax()\n",
    "\n",
    "music_data.iloc[17]\n",
    "\n",
    "music_data[\"Duration (in minutes)\"].idxmax()"
   ]
  },
  {
   "cell_type": "code",
   "execution_count": 333,
   "id": "db8df8bb",
   "metadata": {},
   "outputs": [
    {
     "data": {
      "application/vnd.plotly.v1+json": {
       "config": {
        "plotlyServerURL": "https://plot.ly"
       },
       "data": [
        {
         "colorscale": [
          [
           0,
           "rgb(209, 238, 234)"
          ],
          [
           0.16666666666666666,
           "rgb(168, 219, 217)"
          ],
          [
           0.3333333333333333,
           "rgb(133, 196, 201)"
          ],
          [
           0.5,
           "rgb(104, 171, 184)"
          ],
          [
           0.6666666666666666,
           "rgb(79, 144, 166)"
          ],
          [
           0.8333333333333334,
           "rgb(59, 115, 143)"
          ],
          [
           1,
           "rgb(42, 86, 116)"
          ]
         ],
         "hoverinfo": "z",
         "reversescale": false,
         "showscale": false,
         "type": "heatmap",
         "x": [
          "Duration (in minutes)",
          "Total Views",
          "Total Likes",
          "Total Comments"
         ],
         "y": [
          "Duration (in minutes)",
          "Total Views",
          "Total Likes",
          "Total Comments"
         ],
         "z": [
          [
           1,
           0.4394283024162457,
           0.44958215205414803,
           0.4363854391377636
          ],
          [
           0.4394283024162457,
           1,
           0.9995894812054137,
           0.9913027456932579
          ],
          [
           0.44958215205414803,
           0.9995894812054137,
           1,
           0.9938961559059335
          ],
          [
           0.4363854391377636,
           0.9913027456932579,
           0.9938961559059335,
           1
          ]
         ]
        }
       ],
       "layout": {
        "annotations": [
         {
          "font": {
           "color": "#FFFFFF"
          },
          "showarrow": false,
          "text": "1.0",
          "x": "Duration (in minutes)",
          "xref": "x",
          "y": "Duration (in minutes)",
          "yref": "y"
         },
         {
          "font": {
           "color": "#000000"
          },
          "showarrow": false,
          "text": "0.44",
          "x": "Total Views",
          "xref": "x",
          "y": "Duration (in minutes)",
          "yref": "y"
         },
         {
          "font": {
           "color": "#000000"
          },
          "showarrow": false,
          "text": "0.45",
          "x": "Total Likes",
          "xref": "x",
          "y": "Duration (in minutes)",
          "yref": "y"
         },
         {
          "font": {
           "color": "#000000"
          },
          "showarrow": false,
          "text": "0.44",
          "x": "Total Comments",
          "xref": "x",
          "y": "Duration (in minutes)",
          "yref": "y"
         },
         {
          "font": {
           "color": "#000000"
          },
          "showarrow": false,
          "text": "0.44",
          "x": "Duration (in minutes)",
          "xref": "x",
          "y": "Total Views",
          "yref": "y"
         },
         {
          "font": {
           "color": "#FFFFFF"
          },
          "showarrow": false,
          "text": "1.0",
          "x": "Total Views",
          "xref": "x",
          "y": "Total Views",
          "yref": "y"
         },
         {
          "font": {
           "color": "#FFFFFF"
          },
          "showarrow": false,
          "text": "1.0",
          "x": "Total Likes",
          "xref": "x",
          "y": "Total Views",
          "yref": "y"
         },
         {
          "font": {
           "color": "#FFFFFF"
          },
          "showarrow": false,
          "text": "0.99",
          "x": "Total Comments",
          "xref": "x",
          "y": "Total Views",
          "yref": "y"
         },
         {
          "font": {
           "color": "#000000"
          },
          "showarrow": false,
          "text": "0.45",
          "x": "Duration (in minutes)",
          "xref": "x",
          "y": "Total Likes",
          "yref": "y"
         },
         {
          "font": {
           "color": "#FFFFFF"
          },
          "showarrow": false,
          "text": "1.0",
          "x": "Total Views",
          "xref": "x",
          "y": "Total Likes",
          "yref": "y"
         },
         {
          "font": {
           "color": "#FFFFFF"
          },
          "showarrow": false,
          "text": "1.0",
          "x": "Total Likes",
          "xref": "x",
          "y": "Total Likes",
          "yref": "y"
         },
         {
          "font": {
           "color": "#FFFFFF"
          },
          "showarrow": false,
          "text": "0.99",
          "x": "Total Comments",
          "xref": "x",
          "y": "Total Likes",
          "yref": "y"
         },
         {
          "font": {
           "color": "#000000"
          },
          "showarrow": false,
          "text": "0.44",
          "x": "Duration (in minutes)",
          "xref": "x",
          "y": "Total Comments",
          "yref": "y"
         },
         {
          "font": {
           "color": "#FFFFFF"
          },
          "showarrow": false,
          "text": "0.99",
          "x": "Total Views",
          "xref": "x",
          "y": "Total Comments",
          "yref": "y"
         },
         {
          "font": {
           "color": "#FFFFFF"
          },
          "showarrow": false,
          "text": "0.99",
          "x": "Total Likes",
          "xref": "x",
          "y": "Total Comments",
          "yref": "y"
         },
         {
          "font": {
           "color": "#FFFFFF"
          },
          "showarrow": false,
          "text": "1.0",
          "x": "Total Comments",
          "xref": "x",
          "y": "Total Comments",
          "yref": "y"
         }
        ],
        "template": {
         "data": {
          "bar": [
           {
            "error_x": {
             "color": "#2a3f5f"
            },
            "error_y": {
             "color": "#2a3f5f"
            },
            "marker": {
             "line": {
              "color": "#E5ECF6",
              "width": 0.5
             },
             "pattern": {
              "fillmode": "overlay",
              "size": 10,
              "solidity": 0.2
             }
            },
            "type": "bar"
           }
          ],
          "barpolar": [
           {
            "marker": {
             "line": {
              "color": "#E5ECF6",
              "width": 0.5
             },
             "pattern": {
              "fillmode": "overlay",
              "size": 10,
              "solidity": 0.2
             }
            },
            "type": "barpolar"
           }
          ],
          "carpet": [
           {
            "aaxis": {
             "endlinecolor": "#2a3f5f",
             "gridcolor": "white",
             "linecolor": "white",
             "minorgridcolor": "white",
             "startlinecolor": "#2a3f5f"
            },
            "baxis": {
             "endlinecolor": "#2a3f5f",
             "gridcolor": "white",
             "linecolor": "white",
             "minorgridcolor": "white",
             "startlinecolor": "#2a3f5f"
            },
            "type": "carpet"
           }
          ],
          "choropleth": [
           {
            "colorbar": {
             "outlinewidth": 0,
             "ticks": ""
            },
            "type": "choropleth"
           }
          ],
          "contour": [
           {
            "colorbar": {
             "outlinewidth": 0,
             "ticks": ""
            },
            "colorscale": [
             [
              0,
              "#0d0887"
             ],
             [
              0.1111111111111111,
              "#46039f"
             ],
             [
              0.2222222222222222,
              "#7201a8"
             ],
             [
              0.3333333333333333,
              "#9c179e"
             ],
             [
              0.4444444444444444,
              "#bd3786"
             ],
             [
              0.5555555555555556,
              "#d8576b"
             ],
             [
              0.6666666666666666,
              "#ed7953"
             ],
             [
              0.7777777777777778,
              "#fb9f3a"
             ],
             [
              0.8888888888888888,
              "#fdca26"
             ],
             [
              1,
              "#f0f921"
             ]
            ],
            "type": "contour"
           }
          ],
          "contourcarpet": [
           {
            "colorbar": {
             "outlinewidth": 0,
             "ticks": ""
            },
            "type": "contourcarpet"
           }
          ],
          "heatmap": [
           {
            "colorbar": {
             "outlinewidth": 0,
             "ticks": ""
            },
            "colorscale": [
             [
              0,
              "#0d0887"
             ],
             [
              0.1111111111111111,
              "#46039f"
             ],
             [
              0.2222222222222222,
              "#7201a8"
             ],
             [
              0.3333333333333333,
              "#9c179e"
             ],
             [
              0.4444444444444444,
              "#bd3786"
             ],
             [
              0.5555555555555556,
              "#d8576b"
             ],
             [
              0.6666666666666666,
              "#ed7953"
             ],
             [
              0.7777777777777778,
              "#fb9f3a"
             ],
             [
              0.8888888888888888,
              "#fdca26"
             ],
             [
              1,
              "#f0f921"
             ]
            ],
            "type": "heatmap"
           }
          ],
          "heatmapgl": [
           {
            "colorbar": {
             "outlinewidth": 0,
             "ticks": ""
            },
            "colorscale": [
             [
              0,
              "#0d0887"
             ],
             [
              0.1111111111111111,
              "#46039f"
             ],
             [
              0.2222222222222222,
              "#7201a8"
             ],
             [
              0.3333333333333333,
              "#9c179e"
             ],
             [
              0.4444444444444444,
              "#bd3786"
             ],
             [
              0.5555555555555556,
              "#d8576b"
             ],
             [
              0.6666666666666666,
              "#ed7953"
             ],
             [
              0.7777777777777778,
              "#fb9f3a"
             ],
             [
              0.8888888888888888,
              "#fdca26"
             ],
             [
              1,
              "#f0f921"
             ]
            ],
            "type": "heatmapgl"
           }
          ],
          "histogram": [
           {
            "marker": {
             "pattern": {
              "fillmode": "overlay",
              "size": 10,
              "solidity": 0.2
             }
            },
            "type": "histogram"
           }
          ],
          "histogram2d": [
           {
            "colorbar": {
             "outlinewidth": 0,
             "ticks": ""
            },
            "colorscale": [
             [
              0,
              "#0d0887"
             ],
             [
              0.1111111111111111,
              "#46039f"
             ],
             [
              0.2222222222222222,
              "#7201a8"
             ],
             [
              0.3333333333333333,
              "#9c179e"
             ],
             [
              0.4444444444444444,
              "#bd3786"
             ],
             [
              0.5555555555555556,
              "#d8576b"
             ],
             [
              0.6666666666666666,
              "#ed7953"
             ],
             [
              0.7777777777777778,
              "#fb9f3a"
             ],
             [
              0.8888888888888888,
              "#fdca26"
             ],
             [
              1,
              "#f0f921"
             ]
            ],
            "type": "histogram2d"
           }
          ],
          "histogram2dcontour": [
           {
            "colorbar": {
             "outlinewidth": 0,
             "ticks": ""
            },
            "colorscale": [
             [
              0,
              "#0d0887"
             ],
             [
              0.1111111111111111,
              "#46039f"
             ],
             [
              0.2222222222222222,
              "#7201a8"
             ],
             [
              0.3333333333333333,
              "#9c179e"
             ],
             [
              0.4444444444444444,
              "#bd3786"
             ],
             [
              0.5555555555555556,
              "#d8576b"
             ],
             [
              0.6666666666666666,
              "#ed7953"
             ],
             [
              0.7777777777777778,
              "#fb9f3a"
             ],
             [
              0.8888888888888888,
              "#fdca26"
             ],
             [
              1,
              "#f0f921"
             ]
            ],
            "type": "histogram2dcontour"
           }
          ],
          "mesh3d": [
           {
            "colorbar": {
             "outlinewidth": 0,
             "ticks": ""
            },
            "type": "mesh3d"
           }
          ],
          "parcoords": [
           {
            "line": {
             "colorbar": {
              "outlinewidth": 0,
              "ticks": ""
             }
            },
            "type": "parcoords"
           }
          ],
          "pie": [
           {
            "automargin": true,
            "type": "pie"
           }
          ],
          "scatter": [
           {
            "marker": {
             "colorbar": {
              "outlinewidth": 0,
              "ticks": ""
             }
            },
            "type": "scatter"
           }
          ],
          "scatter3d": [
           {
            "line": {
             "colorbar": {
              "outlinewidth": 0,
              "ticks": ""
             }
            },
            "marker": {
             "colorbar": {
              "outlinewidth": 0,
              "ticks": ""
             }
            },
            "type": "scatter3d"
           }
          ],
          "scattercarpet": [
           {
            "marker": {
             "colorbar": {
              "outlinewidth": 0,
              "ticks": ""
             }
            },
            "type": "scattercarpet"
           }
          ],
          "scattergeo": [
           {
            "marker": {
             "colorbar": {
              "outlinewidth": 0,
              "ticks": ""
             }
            },
            "type": "scattergeo"
           }
          ],
          "scattergl": [
           {
            "marker": {
             "colorbar": {
              "outlinewidth": 0,
              "ticks": ""
             }
            },
            "type": "scattergl"
           }
          ],
          "scattermapbox": [
           {
            "marker": {
             "colorbar": {
              "outlinewidth": 0,
              "ticks": ""
             }
            },
            "type": "scattermapbox"
           }
          ],
          "scatterpolar": [
           {
            "marker": {
             "colorbar": {
              "outlinewidth": 0,
              "ticks": ""
             }
            },
            "type": "scatterpolar"
           }
          ],
          "scatterpolargl": [
           {
            "marker": {
             "colorbar": {
              "outlinewidth": 0,
              "ticks": ""
             }
            },
            "type": "scatterpolargl"
           }
          ],
          "scatterternary": [
           {
            "marker": {
             "colorbar": {
              "outlinewidth": 0,
              "ticks": ""
             }
            },
            "type": "scatterternary"
           }
          ],
          "surface": [
           {
            "colorbar": {
             "outlinewidth": 0,
             "ticks": ""
            },
            "colorscale": [
             [
              0,
              "#0d0887"
             ],
             [
              0.1111111111111111,
              "#46039f"
             ],
             [
              0.2222222222222222,
              "#7201a8"
             ],
             [
              0.3333333333333333,
              "#9c179e"
             ],
             [
              0.4444444444444444,
              "#bd3786"
             ],
             [
              0.5555555555555556,
              "#d8576b"
             ],
             [
              0.6666666666666666,
              "#ed7953"
             ],
             [
              0.7777777777777778,
              "#fb9f3a"
             ],
             [
              0.8888888888888888,
              "#fdca26"
             ],
             [
              1,
              "#f0f921"
             ]
            ],
            "type": "surface"
           }
          ],
          "table": [
           {
            "cells": {
             "fill": {
              "color": "#EBF0F8"
             },
             "line": {
              "color": "white"
             }
            },
            "header": {
             "fill": {
              "color": "#C8D4E3"
             },
             "line": {
              "color": "white"
             }
            },
            "type": "table"
           }
          ]
         },
         "layout": {
          "annotationdefaults": {
           "arrowcolor": "#2a3f5f",
           "arrowhead": 0,
           "arrowwidth": 1
          },
          "autotypenumbers": "strict",
          "coloraxis": {
           "colorbar": {
            "outlinewidth": 0,
            "ticks": ""
           }
          },
          "colorscale": {
           "diverging": [
            [
             0,
             "#8e0152"
            ],
            [
             0.1,
             "#c51b7d"
            ],
            [
             0.2,
             "#de77ae"
            ],
            [
             0.3,
             "#f1b6da"
            ],
            [
             0.4,
             "#fde0ef"
            ],
            [
             0.5,
             "#f7f7f7"
            ],
            [
             0.6,
             "#e6f5d0"
            ],
            [
             0.7,
             "#b8e186"
            ],
            [
             0.8,
             "#7fbc41"
            ],
            [
             0.9,
             "#4d9221"
            ],
            [
             1,
             "#276419"
            ]
           ],
           "sequential": [
            [
             0,
             "#0d0887"
            ],
            [
             0.1111111111111111,
             "#46039f"
            ],
            [
             0.2222222222222222,
             "#7201a8"
            ],
            [
             0.3333333333333333,
             "#9c179e"
            ],
            [
             0.4444444444444444,
             "#bd3786"
            ],
            [
             0.5555555555555556,
             "#d8576b"
            ],
            [
             0.6666666666666666,
             "#ed7953"
            ],
            [
             0.7777777777777778,
             "#fb9f3a"
            ],
            [
             0.8888888888888888,
             "#fdca26"
            ],
            [
             1,
             "#f0f921"
            ]
           ],
           "sequentialminus": [
            [
             0,
             "#0d0887"
            ],
            [
             0.1111111111111111,
             "#46039f"
            ],
            [
             0.2222222222222222,
             "#7201a8"
            ],
            [
             0.3333333333333333,
             "#9c179e"
            ],
            [
             0.4444444444444444,
             "#bd3786"
            ],
            [
             0.5555555555555556,
             "#d8576b"
            ],
            [
             0.6666666666666666,
             "#ed7953"
            ],
            [
             0.7777777777777778,
             "#fb9f3a"
            ],
            [
             0.8888888888888888,
             "#fdca26"
            ],
            [
             1,
             "#f0f921"
            ]
           ]
          },
          "colorway": [
           "#636efa",
           "#EF553B",
           "#00cc96",
           "#ab63fa",
           "#FFA15A",
           "#19d3f3",
           "#FF6692",
           "#B6E880",
           "#FF97FF",
           "#FECB52"
          ],
          "font": {
           "color": "#2a3f5f"
          },
          "geo": {
           "bgcolor": "white",
           "lakecolor": "white",
           "landcolor": "#E5ECF6",
           "showlakes": true,
           "showland": true,
           "subunitcolor": "white"
          },
          "hoverlabel": {
           "align": "left"
          },
          "hovermode": "closest",
          "mapbox": {
           "style": "light"
          },
          "paper_bgcolor": "white",
          "plot_bgcolor": "#E5ECF6",
          "polar": {
           "angularaxis": {
            "gridcolor": "white",
            "linecolor": "white",
            "ticks": ""
           },
           "bgcolor": "#E5ECF6",
           "radialaxis": {
            "gridcolor": "white",
            "linecolor": "white",
            "ticks": ""
           }
          },
          "scene": {
           "xaxis": {
            "backgroundcolor": "#E5ECF6",
            "gridcolor": "white",
            "gridwidth": 2,
            "linecolor": "white",
            "showbackground": true,
            "ticks": "",
            "zerolinecolor": "white"
           },
           "yaxis": {
            "backgroundcolor": "#E5ECF6",
            "gridcolor": "white",
            "gridwidth": 2,
            "linecolor": "white",
            "showbackground": true,
            "ticks": "",
            "zerolinecolor": "white"
           },
           "zaxis": {
            "backgroundcolor": "#E5ECF6",
            "gridcolor": "white",
            "gridwidth": 2,
            "linecolor": "white",
            "showbackground": true,
            "ticks": "",
            "zerolinecolor": "white"
           }
          },
          "shapedefaults": {
           "line": {
            "color": "#2a3f5f"
           }
          },
          "ternary": {
           "aaxis": {
            "gridcolor": "white",
            "linecolor": "white",
            "ticks": ""
           },
           "baxis": {
            "gridcolor": "white",
            "linecolor": "white",
            "ticks": ""
           },
           "bgcolor": "#E5ECF6",
           "caxis": {
            "gridcolor": "white",
            "linecolor": "white",
            "ticks": ""
           }
          },
          "title": {
           "x": 0.05
          },
          "xaxis": {
           "automargin": true,
           "gridcolor": "white",
           "linecolor": "white",
           "ticks": "",
           "title": {
            "standoff": 15
           },
           "zerolinecolor": "white",
           "zerolinewidth": 2
          },
          "yaxis": {
           "automargin": true,
           "gridcolor": "white",
           "linecolor": "white",
           "ticks": "",
           "title": {
            "standoff": 15
           },
           "zerolinecolor": "white",
           "zerolinewidth": 2
          }
         }
        },
        "xaxis": {
         "dtick": 1,
         "gridcolor": "rgb(0, 0, 0)",
         "side": "top",
         "ticks": ""
        },
        "yaxis": {
         "dtick": 1,
         "ticks": "",
         "ticksuffix": "  "
        }
       }
      }
     },
     "metadata": {},
     "output_type": "display_data"
    }
   ],
   "source": [
    "corr_music = music_data.corr()\n",
    "\n",
    "import plotly.figure_factory as ff\n",
    "\n",
    "y = list(corr_music.columns)\n",
    "x = list(corr_music.index)\n",
    "z = np.array(corr_music)\n",
    "\n",
    "fig = ff.create_annotated_heatmap(\n",
    "    z,\n",
    "    x = x,\n",
    "    y = y ,\n",
    "    annotation_text = np.around(z, decimals=2),\n",
    "    hoverinfo='z',\n",
    "    colorscale='Teal',\n",
    "    )\n",
    "fig.show()"
   ]
  }
 ],
 "metadata": {
  "kernelspec": {
   "display_name": "Python 3",
   "language": "python",
   "name": "python3"
  },
  "language_info": {
   "codemirror_mode": {
    "name": "ipython",
    "version": 3
   },
   "file_extension": ".py",
   "mimetype": "text/x-python",
   "name": "python",
   "nbconvert_exporter": "python",
   "pygments_lexer": "ipython3",
   "version": "3.9.6"
  }
 },
 "nbformat": 4,
 "nbformat_minor": 5
}
